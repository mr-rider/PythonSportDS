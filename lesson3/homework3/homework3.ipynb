{
 "cells": [
  {
   "cell_type": "code",
   "execution_count": 2,
   "metadata": {},
   "outputs": [
    {
     "name": "stderr",
     "output_type": "stream",
     "text": [
      "C:\\Program Files (x86)\\Microsoft Visual Studio\\Shared\\Anaconda3_64\\lib\\site-packages\\sklearn\\ensemble\\weight_boosting.py:29: DeprecationWarning: numpy.core.umath_tests is an internal NumPy module and should not be imported. It will be removed in a future NumPy release.\n",
      "  from numpy.core.umath_tests import inner1d\n"
     ]
    }
   ],
   "source": [
    "import warnings\n",
    "from tqdm import tqdm\n",
    "from typing import List, Tuple\n",
    "\n",
    "import numpy as np\n",
    "import pandas as pd\n",
    "import seaborn as sns\n",
    "import xgboost as xgb\n",
    "import matplotlib.pyplot as plt\n",
    "from scipy.stats import ttest_rel\n",
    "\n",
    "from sklearn.metrics import r2_score\n",
    "from sklearn.ensemble import RandomForestRegressor\n",
    "from sklearn.model_selection import KFold, StratifiedKFold, train_test_split, cross_val_score\n",
    "from sklearn.metrics import roc_auc_score\n",
    "warnings.simplefilter(\"ignore\")\n",
    "%matplotlib inline"
   ]
  },
  {
   "cell_type": "markdown",
   "metadata": {},
   "source": [
    "Задание 1: сделать Hold-Out валидацию с разбиением, размер которого будет адеквтаным, по вашему мнению; разбиение проводить по id-транзакции (TransactionID), обучать модель градиетного бустинга любой реализации с подбором числа деревьев по early_stopping критерию до достижения сходимости. Оценить качество модели на валидационной выборке, оценить расхождение по сравнению с качеством на обучающей выборке и валидационной выборке. Оценить качество на ЛБ, сравнить с качеством на обучении и валидации. Сделать выводы."
   ]
  },
  {
   "cell_type": "code",
   "execution_count": 2,
   "metadata": {},
   "outputs": [
    {
     "name": "stdout",
     "output_type": "stream",
     "text": [
      "Defaulting to user installation because normal site-packages is not writeable\n",
      "Collecting tqdm\n",
      "  Downloading tqdm-4.59.0-py2.py3-none-any.whl (74 kB)\n",
      "Installing collected packages: tqdm\n",
      "Successfully installed tqdm-4.59.0\n"
     ]
    },
    {
     "name": "stderr",
     "output_type": "stream",
     "text": [
      "WARNING: pip is being invoked by an old script wrapper. This will fail in a future version of pip.\n",
      "Please see https://github.com/pypa/pip/issues/5599 for advice on fixing the underlying issue.\n",
      "To avoid this problem you can invoke Python with '-m pip' instead of running pip directly.\n",
      "  WARNING: The script tqdm.exe is installed in 'C:\\Users\\mr.rider\\AppData\\Roaming\\Python\\Python36\\Scripts' which is not on PATH.\n",
      "  Consider adding this directory to PATH or, if you prefer to suppress this warning, use --no-warn-script-location.\n",
      "WARNING: You are using pip version 20.2.3; however, version 21.0.1 is available.\n",
      "You should consider upgrading via the 'C:\\Program Files (x86)\\Microsoft Visual Studio\\Shared\\Anaconda3_64\\python.exe -m pip install --upgrade pip' command.\n"
     ]
    }
   ],
   "source": [
    "#!pip install tqdm\n"
   ]
  },
  {
   "cell_type": "code",
   "execution_count": 3,
   "metadata": {},
   "outputs": [],
   "source": [
    "data = pd.read_csv(\"./data/assignment_2_train.csv\")\n"
   ]
  },
  {
   "cell_type": "code",
   "execution_count": 8,
   "metadata": {},
   "outputs": [],
   "source": [
    "data_ldb = pd.read_csv(\"./data/assignment_2_test.csv\")"
   ]
  },
  {
   "cell_type": "code",
   "execution_count": 1,
   "metadata": {},
   "outputs": [
    {
     "ename": "NameError",
     "evalue": "name 'data_ldb' is not defined",
     "output_type": "error",
     "traceback": [
      "\u001b[1;31m---------------------------------------------------------------------------\u001b[0m",
      "\u001b[1;31mNameError\u001b[0m                                 Traceback (most recent call last)",
      "\u001b[1;32m<ipython-input-1-5d1122e833b7>\u001b[0m in \u001b[0;36m<module>\u001b[1;34m()\u001b[0m\n\u001b[1;32m----> 1\u001b[1;33m \u001b[0mdata_ldb\u001b[0m\u001b[1;33m.\u001b[0m\u001b[0mhead\u001b[0m\u001b[1;33m(\u001b[0m\u001b[1;36m10\u001b[0m\u001b[1;33m)\u001b[0m\u001b[1;33m\u001b[0m\u001b[0m\n\u001b[0m",
      "\u001b[1;31mNameError\u001b[0m: name 'data_ldb' is not defined"
     ]
    }
   ],
   "source": [
    "data_ldb.head(10)"
   ]
  },
  {
   "cell_type": "code",
   "execution_count": 8,
   "metadata": {},
   "outputs": [],
   "source": [
    "x_train, x_valid = train_test_split(\n",
    "    data.drop([\"TransactionID\", \"isFraud\"], axis=1), train_size=0.75, shuffle=True, random_state=1,\n",
    ")\n",
    "y_train, y_valid = train_test_split(\n",
    "    data[\"isFraud\"], train_size=0.75, shuffle=True, random_state=1,\n",
    ")"
   ]
  },
  {
   "cell_type": "code",
   "execution_count": 9,
   "metadata": {},
   "outputs": [],
   "source": [
    "x_ldb = data_ldb.drop([\"TransactionID\", \"isFraud\"], axis=1)\n",
    "y_ldb = data_ldb[\"isFraud\"]"
   ]
  },
  {
   "cell_type": "code",
   "execution_count": 24,
   "metadata": {},
   "outputs": [
    {
     "data": {
      "text/plain": [
       "0    1\n",
       "1    0\n",
       "2    0\n",
       "3    0\n",
       "4    0\n",
       "5    0\n",
       "6    0\n",
       "7    0\n",
       "8    0\n",
       "9    0\n",
       "Name: isFraud, dtype: int64"
      ]
     },
     "execution_count": 24,
     "metadata": {},
     "output_type": "execute_result"
    }
   ],
   "source": [
    "y_ldb.head(10)"
   ]
  },
  {
   "cell_type": "code",
   "execution_count": 26,
   "metadata": {},
   "outputs": [
    {
     "name": "stdout",
     "output_type": "stream",
     "text": [
      "x_train.shape = 135000 rows, 378 cols\n",
      "x_valid.shape = 45000 rows, 378 cols\n",
      "x_ldb.shape = 100001 rows, 378 cols\n"
     ]
    }
   ],
   "source": [
    "numerical_features = x_train.select_dtypes(exclude=[\"object\"])\n",
    "numerical_features = numerical_features.columns.tolist()\n",
    "\n",
    "x_train = x_train[numerical_features]\n",
    "x_valid = x_valid[numerical_features]\n",
    "x_ldb = x_ldb[numerical_features]\n",
    "\n",
    "print(\"x_train.shape = {} rows, {} cols\".format(*x_train.shape))\n",
    "print(\"x_valid.shape = {} rows, {} cols\".format(*x_valid.shape))\n",
    "print(\"x_ldb.shape = {} rows, {} cols\".format(*x_ldb.shape))"
   ]
  },
  {
   "cell_type": "code",
   "execution_count": 47,
   "metadata": {},
   "outputs": [
    {
     "name": "stdout",
     "output_type": "stream",
     "text": [
      "[0]\tvalidation_0-auc:0.75005\n",
      "[1]\tvalidation_0-auc:0.81958\n",
      "[2]\tvalidation_0-auc:0.82705\n",
      "[3]\tvalidation_0-auc:0.82888\n",
      "[4]\tvalidation_0-auc:0.83463\n",
      "[5]\tvalidation_0-auc:0.84026\n",
      "[6]\tvalidation_0-auc:0.84202\n",
      "[7]\tvalidation_0-auc:0.85946\n",
      "[8]\tvalidation_0-auc:0.86192\n",
      "[9]\tvalidation_0-auc:0.87803\n",
      "[10]\tvalidation_0-auc:0.88116\n",
      "[11]\tvalidation_0-auc:0.88426\n",
      "[12]\tvalidation_0-auc:0.88842\n",
      "[13]\tvalidation_0-auc:0.89227\n",
      "[14]\tvalidation_0-auc:0.89477\n",
      "[15]\tvalidation_0-auc:0.89906\n",
      "[16]\tvalidation_0-auc:0.90034\n",
      "[17]\tvalidation_0-auc:0.90242\n",
      "[18]\tvalidation_0-auc:0.90376\n",
      "[19]\tvalidation_0-auc:0.90503\n",
      "[20]\tvalidation_0-auc:0.90779\n",
      "[21]\tvalidation_0-auc:0.90908\n",
      "[22]\tvalidation_0-auc:0.90973\n",
      "[23]\tvalidation_0-auc:0.90967\n",
      "[24]\tvalidation_0-auc:0.91059\n",
      "[25]\tvalidation_0-auc:0.91146\n",
      "[26]\tvalidation_0-auc:0.91316\n",
      "[27]\tvalidation_0-auc:0.91408\n",
      "[28]\tvalidation_0-auc:0.91436\n",
      "[29]\tvalidation_0-auc:0.91505\n",
      "[30]\tvalidation_0-auc:0.91517\n",
      "[31]\tvalidation_0-auc:0.91554\n",
      "[32]\tvalidation_0-auc:0.91646\n",
      "[33]\tvalidation_0-auc:0.91881\n",
      "[34]\tvalidation_0-auc:0.91942\n",
      "[35]\tvalidation_0-auc:0.92059\n",
      "[36]\tvalidation_0-auc:0.92079\n",
      "[37]\tvalidation_0-auc:0.92173\n",
      "[38]\tvalidation_0-auc:0.92213\n",
      "[39]\tvalidation_0-auc:0.92256\n",
      "[40]\tvalidation_0-auc:0.92284\n",
      "[41]\tvalidation_0-auc:0.92313\n",
      "[42]\tvalidation_0-auc:0.92401\n",
      "[43]\tvalidation_0-auc:0.92405\n",
      "[44]\tvalidation_0-auc:0.92413\n",
      "[45]\tvalidation_0-auc:0.92440\n",
      "[46]\tvalidation_0-auc:0.92444\n",
      "[47]\tvalidation_0-auc:0.92492\n",
      "[48]\tvalidation_0-auc:0.92498\n",
      "[49]\tvalidation_0-auc:0.92516\n",
      "[50]\tvalidation_0-auc:0.92572\n",
      "[51]\tvalidation_0-auc:0.92601\n",
      "[52]\tvalidation_0-auc:0.92604\n",
      "[53]\tvalidation_0-auc:0.92640\n",
      "[54]\tvalidation_0-auc:0.92643\n",
      "[55]\tvalidation_0-auc:0.92743\n",
      "[56]\tvalidation_0-auc:0.92783\n",
      "[57]\tvalidation_0-auc:0.92821\n",
      "[58]\tvalidation_0-auc:0.92838\n",
      "[59]\tvalidation_0-auc:0.92887\n",
      "[60]\tvalidation_0-auc:0.92932\n",
      "[61]\tvalidation_0-auc:0.92921\n",
      "[62]\tvalidation_0-auc:0.92929\n",
      "[63]\tvalidation_0-auc:0.92924\n",
      "[64]\tvalidation_0-auc:0.92938\n",
      "[65]\tvalidation_0-auc:0.92990\n",
      "[66]\tvalidation_0-auc:0.93046\n",
      "[67]\tvalidation_0-auc:0.93063\n",
      "[68]\tvalidation_0-auc:0.93083\n",
      "[69]\tvalidation_0-auc:0.93099\n",
      "[70]\tvalidation_0-auc:0.93118\n",
      "[71]\tvalidation_0-auc:0.93137\n",
      "[72]\tvalidation_0-auc:0.93177\n",
      "[73]\tvalidation_0-auc:0.93220\n",
      "[74]\tvalidation_0-auc:0.93260\n",
      "[75]\tvalidation_0-auc:0.93305\n",
      "[76]\tvalidation_0-auc:0.93316\n",
      "[77]\tvalidation_0-auc:0.93311\n",
      "[78]\tvalidation_0-auc:0.93322\n",
      "[79]\tvalidation_0-auc:0.93315\n",
      "[80]\tvalidation_0-auc:0.93401\n",
      "[81]\tvalidation_0-auc:0.93378\n",
      "[82]\tvalidation_0-auc:0.93386\n",
      "[83]\tvalidation_0-auc:0.93395\n",
      "[84]\tvalidation_0-auc:0.93427\n",
      "[85]\tvalidation_0-auc:0.93442\n",
      "[86]\tvalidation_0-auc:0.93451\n",
      "[87]\tvalidation_0-auc:0.93464\n",
      "[88]\tvalidation_0-auc:0.93469\n",
      "[89]\tvalidation_0-auc:0.93470\n",
      "[90]\tvalidation_0-auc:0.93483\n",
      "[91]\tvalidation_0-auc:0.93495\n",
      "[92]\tvalidation_0-auc:0.93511\n",
      "[93]\tvalidation_0-auc:0.93514\n",
      "[94]\tvalidation_0-auc:0.93520\n",
      "[95]\tvalidation_0-auc:0.93580\n",
      "[96]\tvalidation_0-auc:0.93575\n",
      "[97]\tvalidation_0-auc:0.93592\n",
      "[98]\tvalidation_0-auc:0.93627\n",
      "[99]\tvalidation_0-auc:0.93648\n",
      "[100]\tvalidation_0-auc:0.93656\n",
      "[101]\tvalidation_0-auc:0.93650\n",
      "[102]\tvalidation_0-auc:0.93650\n",
      "[103]\tvalidation_0-auc:0.93653\n",
      "[104]\tvalidation_0-auc:0.93725\n",
      "[105]\tvalidation_0-auc:0.93791\n",
      "[106]\tvalidation_0-auc:0.93791\n",
      "[107]\tvalidation_0-auc:0.93823\n",
      "[108]\tvalidation_0-auc:0.93819\n",
      "[109]\tvalidation_0-auc:0.93847\n",
      "[110]\tvalidation_0-auc:0.93861\n",
      "[111]\tvalidation_0-auc:0.93912\n",
      "[112]\tvalidation_0-auc:0.93907\n",
      "[113]\tvalidation_0-auc:0.93922\n",
      "[114]\tvalidation_0-auc:0.93903\n",
      "[115]\tvalidation_0-auc:0.93912\n",
      "[116]\tvalidation_0-auc:0.93967\n",
      "[117]\tvalidation_0-auc:0.93982\n",
      "[118]\tvalidation_0-auc:0.93992\n",
      "[119]\tvalidation_0-auc:0.93999\n",
      "[120]\tvalidation_0-auc:0.94012\n",
      "[121]\tvalidation_0-auc:0.94026\n",
      "[122]\tvalidation_0-auc:0.94012\n",
      "[123]\tvalidation_0-auc:0.94048\n",
      "[124]\tvalidation_0-auc:0.94080\n",
      "[125]\tvalidation_0-auc:0.94110\n",
      "[126]\tvalidation_0-auc:0.94145\n",
      "[127]\tvalidation_0-auc:0.94147\n",
      "[128]\tvalidation_0-auc:0.94161\n",
      "[129]\tvalidation_0-auc:0.94199\n",
      "[130]\tvalidation_0-auc:0.94210\n",
      "[131]\tvalidation_0-auc:0.94199\n",
      "[132]\tvalidation_0-auc:0.94209\n",
      "[133]\tvalidation_0-auc:0.94202\n",
      "[134]\tvalidation_0-auc:0.94182\n",
      "[135]\tvalidation_0-auc:0.94161\n",
      "[136]\tvalidation_0-auc:0.94182\n",
      "[137]\tvalidation_0-auc:0.94176\n",
      "[138]\tvalidation_0-auc:0.94220\n",
      "[139]\tvalidation_0-auc:0.94238\n",
      "[140]\tvalidation_0-auc:0.94240\n",
      "[141]\tvalidation_0-auc:0.94249\n",
      "[142]\tvalidation_0-auc:0.94248\n",
      "[143]\tvalidation_0-auc:0.94245\n",
      "[144]\tvalidation_0-auc:0.94271\n",
      "[145]\tvalidation_0-auc:0.94293\n",
      "[146]\tvalidation_0-auc:0.94326\n",
      "[147]\tvalidation_0-auc:0.94344\n",
      "[148]\tvalidation_0-auc:0.94342\n",
      "[149]\tvalidation_0-auc:0.94353\n",
      "[150]\tvalidation_0-auc:0.94379\n",
      "[151]\tvalidation_0-auc:0.94394\n",
      "[152]\tvalidation_0-auc:0.94422\n",
      "[153]\tvalidation_0-auc:0.94415\n",
      "[154]\tvalidation_0-auc:0.94439\n",
      "[155]\tvalidation_0-auc:0.94445\n",
      "[156]\tvalidation_0-auc:0.94459\n",
      "[157]\tvalidation_0-auc:0.94466\n",
      "[158]\tvalidation_0-auc:0.94461\n",
      "[159]\tvalidation_0-auc:0.94488\n",
      "[160]\tvalidation_0-auc:0.94477\n",
      "[161]\tvalidation_0-auc:0.94470\n",
      "[162]\tvalidation_0-auc:0.94461\n",
      "[163]\tvalidation_0-auc:0.94466\n",
      "[164]\tvalidation_0-auc:0.94467\n",
      "[165]\tvalidation_0-auc:0.94476\n",
      "[166]\tvalidation_0-auc:0.94473\n",
      "[167]\tvalidation_0-auc:0.94489\n",
      "[168]\tvalidation_0-auc:0.94484\n",
      "[169]\tvalidation_0-auc:0.94492\n",
      "[170]\tvalidation_0-auc:0.94477\n",
      "[171]\tvalidation_0-auc:0.94487\n",
      "[172]\tvalidation_0-auc:0.94516\n",
      "[173]\tvalidation_0-auc:0.94551\n",
      "[174]\tvalidation_0-auc:0.94558\n",
      "[175]\tvalidation_0-auc:0.94527\n",
      "[176]\tvalidation_0-auc:0.94532\n",
      "[177]\tvalidation_0-auc:0.94537\n",
      "[178]\tvalidation_0-auc:0.94543\n",
      "[179]\tvalidation_0-auc:0.94559\n",
      "[180]\tvalidation_0-auc:0.94564\n",
      "[181]\tvalidation_0-auc:0.94553\n",
      "[182]\tvalidation_0-auc:0.94539\n",
      "[183]\tvalidation_0-auc:0.94543\n",
      "[184]\tvalidation_0-auc:0.94545\n",
      "[185]\tvalidation_0-auc:0.94543\n",
      "[186]\tvalidation_0-auc:0.94553\n",
      "[187]\tvalidation_0-auc:0.94552\n",
      "[188]\tvalidation_0-auc:0.94560\n",
      "[189]\tvalidation_0-auc:0.94562\n",
      "[190]\tvalidation_0-auc:0.94584\n",
      "[191]\tvalidation_0-auc:0.94580\n",
      "[192]\tvalidation_0-auc:0.94585\n",
      "[193]\tvalidation_0-auc:0.94587\n",
      "[194]\tvalidation_0-auc:0.94573\n",
      "[195]\tvalidation_0-auc:0.94577\n",
      "[196]\tvalidation_0-auc:0.94585\n",
      "[197]\tvalidation_0-auc:0.94622\n",
      "[198]\tvalidation_0-auc:0.94619\n",
      "[199]\tvalidation_0-auc:0.94617\n",
      "[200]\tvalidation_0-auc:0.94640\n",
      "[201]\tvalidation_0-auc:0.94617\n",
      "[202]\tvalidation_0-auc:0.94617\n",
      "[203]\tvalidation_0-auc:0.94622\n",
      "[204]\tvalidation_0-auc:0.94577\n",
      "[205]\tvalidation_0-auc:0.94564\n",
      "[206]\tvalidation_0-auc:0.94571\n",
      "[207]\tvalidation_0-auc:0.94587\n",
      "[208]\tvalidation_0-auc:0.94569\n",
      "[209]\tvalidation_0-auc:0.94583\n"
     ]
    },
    {
     "data": {
      "text/plain": [
       "XGBClassifier(base_score=0.5, booster='gbtree', colsample_bylevel=1,\n",
       "       colsample_bynode=1, colsample_bytree=1, gamma=0, gpu_id=-1,\n",
       "       importance_type='gain', interaction_constraints='',\n",
       "       learning_rate=0.300000012, max_delta_step=0, max_depth=6,\n",
       "       min_child_weight=1, missing=nan, monotone_constraints='()',\n",
       "       n_estimators=10000, n_jobs=4, num_parallel_tree=1,\n",
       "       objective='binary:logistic', random_state=1, reg_alpha=0,\n",
       "       reg_lambda=1, scale_pos_weight=1, subsample=1, tree_method='exact',\n",
       "       use_label_encoder=True, validate_parameters=1, verbosity=None)"
      ]
     },
     "execution_count": 47,
     "metadata": {},
     "output_type": "execute_result"
    }
   ],
   "source": [
    "model = xgb.XGBClassifier(n_estimators=10000,random_state=1)\n",
    "eval_set = [(x_valid, y_valid)]\n",
    "model.fit(x_train, y_train,early_stopping_rounds=10, eval_metric=\"auc\", eval_set=eval_set, verbose=True)"
   ]
  },
  {
   "cell_type": "code",
   "execution_count": 48,
   "metadata": {},
   "outputs": [
    {
     "name": "stdout",
     "output_type": "stream",
     "text": [
      "Train-ROC_score: 0.885, Valid-ROC_score: 0.771, LDB-ROC_score: 0.647\n"
     ]
    }
   ],
   "source": [
    "train_roc_score = roc_auc_score(y_train, model.predict(x_train))\n",
    "valid_roc_score = roc_auc_score(y_valid, model.predict(x_valid))\n",
    "ldb_roc_score = roc_auc_score(y_ldb, model.predict(x_ldb))\n",
    "\n",
    "print(f\"Train-ROC_score: {round(train_roc_score, 3)}, Valid-ROC_score: {round(valid_roc_score, 3)}, LDB-ROC_score: {round(ldb_roc_score, 3)}\")"
   ]
  },
  {
   "cell_type": "code",
   "execution_count": null,
   "metadata": {},
   "outputs": [],
   "source": [
    "# Вывод модель сильно переобучена."
   ]
  },
  {
   "cell_type": "markdown",
   "metadata": {},
   "source": [
    "## Задание 2"
   ]
  },
  {
   "cell_type": "markdown",
   "metadata": {},
   "source": [
    "сделать Hold-Out валидацию с разбиением на 3 выборки, разбиение проводить по id-транзакции (TransactionID), размер каждой выборки подобрать самостоятельно. Повторить процедуру из п.1. для каждой выборки."
   ]
  },
  {
   "cell_type": "code",
   "execution_count": 49,
   "metadata": {},
   "outputs": [],
   "source": [
    "x_train, x_valid = train_test_split(\n",
    "    data.drop([\"TransactionID\", \"isFraud\"], axis=1), train_size=0.7, shuffle=True, random_state=1,\n",
    ")\n",
    "y_train, y_valid = train_test_split(\n",
    "    data[\"isFraud\"], train_size=0.7, shuffle=True, random_state=1,\n",
    ")\n"
   ]
  },
  {
   "cell_type": "code",
   "execution_count": 50,
   "metadata": {},
   "outputs": [],
   "source": [
    "x_train = x_train[numerical_features]\n",
    "x_valid = x_valid[numerical_features]"
   ]
  },
  {
   "cell_type": "code",
   "execution_count": 51,
   "metadata": {},
   "outputs": [],
   "source": [
    "x_valid, x_test = train_test_split(\n",
    "    x_valid, train_size=0.7, shuffle=True, random_state=42\n",
    ")\n",
    "y_valid, y_test = train_test_split(\n",
    "    y_valid, train_size=0.7, shuffle=True, random_state=42\n",
    ")"
   ]
  },
  {
   "cell_type": "code",
   "execution_count": 52,
   "metadata": {},
   "outputs": [
    {
     "name": "stdout",
     "output_type": "stream",
     "text": [
      "x_train.shape = 125999 rows, 378 cols\n",
      "x_valid.shape = 37800 rows, 378 cols\n",
      "x_test.shape = 16201 rows, 378 cols\n"
     ]
    }
   ],
   "source": [
    "print(\"x_train.shape = {} rows, {} cols\".format(*x_train.shape))\n",
    "print(\"x_valid.shape = {} rows, {} cols\".format(*x_valid.shape))\n",
    "print(\"x_test.shape = {} rows, {} cols\".format(*x_test.shape))"
   ]
  },
  {
   "cell_type": "code",
   "execution_count": 57,
   "metadata": {},
   "outputs": [],
   "source": [
    "model = xgb.XGBClassifier(n_estimators=10000,random_state=1)"
   ]
  },
  {
   "cell_type": "code",
   "execution_count": 58,
   "metadata": {},
   "outputs": [
    {
     "name": "stdout",
     "output_type": "stream",
     "text": [
      "[0]\tvalidation_0-auc:0.74280\n",
      "[1]\tvalidation_0-auc:0.79520\n",
      "[2]\tvalidation_0-auc:0.82118\n",
      "[3]\tvalidation_0-auc:0.82388\n",
      "[4]\tvalidation_0-auc:0.82799\n",
      "[5]\tvalidation_0-auc:0.85819\n",
      "[6]\tvalidation_0-auc:0.85996\n",
      "[7]\tvalidation_0-auc:0.86458\n",
      "[8]\tvalidation_0-auc:0.86806\n",
      "[9]\tvalidation_0-auc:0.87661\n",
      "[10]\tvalidation_0-auc:0.88228\n",
      "[11]\tvalidation_0-auc:0.88376\n",
      "[12]\tvalidation_0-auc:0.88700\n",
      "[13]\tvalidation_0-auc:0.89157\n",
      "[14]\tvalidation_0-auc:0.89548\n",
      "[15]\tvalidation_0-auc:0.89734\n",
      "[16]\tvalidation_0-auc:0.90186\n",
      "[17]\tvalidation_0-auc:0.90310\n",
      "[18]\tvalidation_0-auc:0.90497\n",
      "[19]\tvalidation_0-auc:0.90655\n",
      "[20]\tvalidation_0-auc:0.90802\n",
      "[21]\tvalidation_0-auc:0.90870\n",
      "[22]\tvalidation_0-auc:0.90952\n",
      "[23]\tvalidation_0-auc:0.91119\n",
      "[24]\tvalidation_0-auc:0.91144\n",
      "[25]\tvalidation_0-auc:0.91313\n",
      "[26]\tvalidation_0-auc:0.91461\n",
      "[27]\tvalidation_0-auc:0.91503\n",
      "[28]\tvalidation_0-auc:0.91604\n",
      "[29]\tvalidation_0-auc:0.91681\n",
      "[30]\tvalidation_0-auc:0.91849\n",
      "[31]\tvalidation_0-auc:0.91930\n",
      "[32]\tvalidation_0-auc:0.92003\n",
      "[33]\tvalidation_0-auc:0.92060\n",
      "[34]\tvalidation_0-auc:0.92181\n",
      "[35]\tvalidation_0-auc:0.92234\n",
      "[36]\tvalidation_0-auc:0.92305\n",
      "[37]\tvalidation_0-auc:0.92346\n",
      "[38]\tvalidation_0-auc:0.92388\n",
      "[39]\tvalidation_0-auc:0.92418\n",
      "[40]\tvalidation_0-auc:0.92435\n",
      "[41]\tvalidation_0-auc:0.92553\n",
      "[42]\tvalidation_0-auc:0.92559\n",
      "[43]\tvalidation_0-auc:0.92622\n",
      "[44]\tvalidation_0-auc:0.92640\n",
      "[45]\tvalidation_0-auc:0.92713\n",
      "[46]\tvalidation_0-auc:0.92740\n",
      "[47]\tvalidation_0-auc:0.92762\n",
      "[48]\tvalidation_0-auc:0.92846\n",
      "[49]\tvalidation_0-auc:0.92858\n",
      "[50]\tvalidation_0-auc:0.92829\n",
      "[51]\tvalidation_0-auc:0.92849\n",
      "[52]\tvalidation_0-auc:0.92885\n",
      "[53]\tvalidation_0-auc:0.92888\n",
      "[54]\tvalidation_0-auc:0.92896\n",
      "[55]\tvalidation_0-auc:0.92913\n",
      "[56]\tvalidation_0-auc:0.92924\n",
      "[57]\tvalidation_0-auc:0.92982\n",
      "[58]\tvalidation_0-auc:0.92985\n",
      "[59]\tvalidation_0-auc:0.93013\n",
      "[60]\tvalidation_0-auc:0.93026\n",
      "[61]\tvalidation_0-auc:0.93138\n",
      "[62]\tvalidation_0-auc:0.93134\n",
      "[63]\tvalidation_0-auc:0.93119\n",
      "[64]\tvalidation_0-auc:0.93157\n",
      "[65]\tvalidation_0-auc:0.93172\n",
      "[66]\tvalidation_0-auc:0.93237\n",
      "[67]\tvalidation_0-auc:0.93283\n",
      "[68]\tvalidation_0-auc:0.93295\n",
      "[69]\tvalidation_0-auc:0.93306\n",
      "[70]\tvalidation_0-auc:0.93300\n",
      "[71]\tvalidation_0-auc:0.93337\n",
      "[72]\tvalidation_0-auc:0.93352\n",
      "[73]\tvalidation_0-auc:0.93390\n",
      "[74]\tvalidation_0-auc:0.93447\n",
      "[75]\tvalidation_0-auc:0.93478\n",
      "[76]\tvalidation_0-auc:0.93503\n",
      "[77]\tvalidation_0-auc:0.93546\n",
      "[78]\tvalidation_0-auc:0.93554\n",
      "[79]\tvalidation_0-auc:0.93585\n",
      "[80]\tvalidation_0-auc:0.93579\n",
      "[81]\tvalidation_0-auc:0.93552\n",
      "[82]\tvalidation_0-auc:0.93583\n",
      "[83]\tvalidation_0-auc:0.93617\n",
      "[84]\tvalidation_0-auc:0.93618\n",
      "[85]\tvalidation_0-auc:0.93634\n",
      "[86]\tvalidation_0-auc:0.93642\n",
      "[87]\tvalidation_0-auc:0.93665\n",
      "[88]\tvalidation_0-auc:0.93716\n",
      "[89]\tvalidation_0-auc:0.93709\n",
      "[90]\tvalidation_0-auc:0.93719\n",
      "[91]\tvalidation_0-auc:0.93710\n",
      "[92]\tvalidation_0-auc:0.93730\n",
      "[93]\tvalidation_0-auc:0.93803\n",
      "[94]\tvalidation_0-auc:0.93801\n",
      "[95]\tvalidation_0-auc:0.93809\n",
      "[96]\tvalidation_0-auc:0.93812\n",
      "[97]\tvalidation_0-auc:0.93807\n",
      "[98]\tvalidation_0-auc:0.93848\n",
      "[99]\tvalidation_0-auc:0.93853\n",
      "[100]\tvalidation_0-auc:0.93857\n",
      "[101]\tvalidation_0-auc:0.93863\n",
      "[102]\tvalidation_0-auc:0.93875\n",
      "[103]\tvalidation_0-auc:0.93900\n",
      "[104]\tvalidation_0-auc:0.93913\n",
      "[105]\tvalidation_0-auc:0.93947\n",
      "[106]\tvalidation_0-auc:0.93982\n",
      "[107]\tvalidation_0-auc:0.94009\n",
      "[108]\tvalidation_0-auc:0.94025\n",
      "[109]\tvalidation_0-auc:0.94018\n",
      "[110]\tvalidation_0-auc:0.94015\n",
      "[111]\tvalidation_0-auc:0.94026\n",
      "[112]\tvalidation_0-auc:0.94027\n",
      "[113]\tvalidation_0-auc:0.94023\n",
      "[114]\tvalidation_0-auc:0.94014\n",
      "[115]\tvalidation_0-auc:0.94010\n",
      "[116]\tvalidation_0-auc:0.94014\n",
      "[117]\tvalidation_0-auc:0.94002\n",
      "[118]\tvalidation_0-auc:0.94008\n",
      "[119]\tvalidation_0-auc:0.94022\n",
      "[120]\tvalidation_0-auc:0.94032\n",
      "[121]\tvalidation_0-auc:0.94008\n",
      "[122]\tvalidation_0-auc:0.94012\n",
      "[123]\tvalidation_0-auc:0.93986\n",
      "[124]\tvalidation_0-auc:0.93991\n",
      "[125]\tvalidation_0-auc:0.93979\n",
      "[126]\tvalidation_0-auc:0.94012\n",
      "[127]\tvalidation_0-auc:0.94018\n",
      "[128]\tvalidation_0-auc:0.94011\n",
      "[129]\tvalidation_0-auc:0.94021\n"
     ]
    },
    {
     "data": {
      "text/plain": [
       "XGBClassifier(base_score=0.5, booster='gbtree', colsample_bylevel=1,\n",
       "       colsample_bynode=1, colsample_bytree=1, gamma=0, gpu_id=-1,\n",
       "       importance_type='gain', interaction_constraints='',\n",
       "       learning_rate=0.300000012, max_delta_step=0, max_depth=6,\n",
       "       min_child_weight=1, missing=nan, monotone_constraints='()',\n",
       "       n_estimators=130, n_jobs=4, num_parallel_tree=1,\n",
       "       objective='binary:logistic', random_state=1, reg_alpha=0,\n",
       "       reg_lambda=1, scale_pos_weight=1, subsample=1, tree_method='exact',\n",
       "       use_label_encoder=True, validate_parameters=1, verbosity=None)"
      ]
     },
     "execution_count": 58,
     "metadata": {},
     "output_type": "execute_result"
    }
   ],
   "source": [
    "eval_set = [(x_valid, y_valid)]\n",
    "model.fit(x_train, y_train,early_stopping_rounds=10, eval_metric=\"auc\", eval_set=eval_set, verbose=True)"
   ]
  },
  {
   "cell_type": "code",
   "execution_count": 55,
   "metadata": {},
   "outputs": [],
   "source": [
    "train_roc_score = roc_auc_score(y_train, model.predict(x_train))\n",
    "valid_roc_score = roc_auc_score(y_valid, model.predict(x_valid))\n",
    "test_roc_score = roc_auc_score(y_test, model.predict(x_test))\n",
    "ldb_roc_score = roc_auc_score(y_ldb, model.predict(x_ldb))\n"
   ]
  },
  {
   "cell_type": "code",
   "execution_count": 56,
   "metadata": {},
   "outputs": [
    {
     "name": "stdout",
     "output_type": "stream",
     "text": [
      "Train-ROC_score: 0.847, Valid-ROC_score: 0.761,Test-ROC_score: 0.762, LDB-ROC_score: 0.666\n"
     ]
    }
   ],
   "source": [
    "print(f\"Train-ROC_score: {round(train_roc_score, 3)}, Valid-ROC_score: {round(valid_roc_score, 3)},Test-ROC_score: {round(test_roc_score, 3)}, LDB-ROC_score: {round(ldb_roc_score, 3)}\")"
   ]
  },
  {
   "cell_type": "code",
   "execution_count": null,
   "metadata": {},
   "outputs": [],
   "source": [
    "#На тестовой и валидационной выборке видно, что модель переобучена. Плохой результат на лидерборде."
   ]
  },
  {
   "cell_type": "markdown",
   "metadata": {},
   "source": [
    "## Задание 3"
   ]
  },
  {
   "cell_type": "markdown",
   "metadata": {},
   "source": [
    "Задание 3: построить доверительный интервал на данных из п.2 на основе бутстреп выборок, оценить качество модели на ЛБ относительно полученного доверительного интервала. Сделать выводы."
   ]
  },
  {
   "cell_type": "code",
   "execution_count": 59,
   "metadata": {},
   "outputs": [],
   "source": [
    "def create_bootstrap_samples(data: np.array, n_samples: int = 1000) -> np.array:\n",
    "    \"\"\"\n",
    "    Создание бутстреп-выборок.\n",
    "\n",
    "    Parameters\n",
    "    ----------\n",
    "    data: np.array\n",
    "        Исходная выборка, которая будет использоваться для\n",
    "        создания бутстреп выборок.\n",
    "\n",
    "    n_samples: int, optional, default = 1000\n",
    "        Количество создаваемых бутстреп выборок.\n",
    "        Опциональный параметр, по умолчанию, равен 1000.\n",
    "\n",
    "    Returns\n",
    "    -------\n",
    "    bootstrap_idx: np.array\n",
    "        Матрица индексов, для создания бутстреп выборок.\n",
    "\n",
    "    \"\"\"\n",
    "    bootstrap_idx = np.random.randint(\n",
    "        low=0, high=len(data), size=(n_samples, len(data))\n",
    "    )\n",
    "    return bootstrap_idx\n"
   ]
  },
  {
   "cell_type": "code",
   "execution_count": 60,
   "metadata": {},
   "outputs": [],
   "source": [
    "def create_bootstrap_metrics(y_true: np.array,\n",
    "                             y_pred: np.array,\n",
    "                             metric: callable,\n",
    "                             n_samlpes: int = 1000) -> List[float]:\n",
    "    \"\"\"\n",
    "    Вычисление бутстреп оценок.\n",
    "\n",
    "    Parameters\n",
    "    ----------\n",
    "    y_true: np.array\n",
    "        Вектор целевой переменной.\n",
    "\n",
    "    y_pred: np.array\n",
    "        Вектор прогнозов.\n",
    "\n",
    "    metric: callable\n",
    "        Функция для вычисления метрики.\n",
    "        Функция должна принимать 2 аргумента: y_true, y_pred.\n",
    "\n",
    "    n_samples: int, optional, default = 1000\n",
    "        Количество создаваемых бутстреп выборок.\n",
    "        Опциональный параметр, по умолчанию, равен 1000.\n",
    "\n",
    "    Returns\n",
    "    -------\n",
    "    bootstrap_metrics: List[float]\n",
    "        Список со значениями метрики качества на каждой бустреп выборке.\n",
    "\n",
    "    \"\"\"\n",
    "    scores = []\n",
    "\n",
    "    if isinstance(y_true, pd.Series):\n",
    "        y_true = y_true.values\n",
    "\n",
    "    bootstrap_idx = create_bootstrap_samples(y_true)\n",
    "    for idx in bootstrap_idx:\n",
    "        y_true_bootstrap = y_true[idx]\n",
    "        y_pred_bootstrap = y_pred[idx]\n",
    "\n",
    "        score = metric(y_true_bootstrap, y_pred_bootstrap)\n",
    "        scores.append(score)\n",
    "\n",
    "    return scores"
   ]
  },
  {
   "cell_type": "code",
   "execution_count": 61,
   "metadata": {},
   "outputs": [],
   "source": [
    "def calculate_confidence_interval(scores: list, conf_interval: float = 0.95) -> Tuple[float]:\n",
    "    \"\"\"\n",
    "    Вычисление доверительного интервала.\n",
    "\n",
    "    Parameters\n",
    "    ----------\n",
    "    scores: List[float / int]\n",
    "        Список с оценками изучаемой величины.\n",
    "\n",
    "    conf_interval: float, optional, default = 0.95\n",
    "        Уровень доверия для построения интервала.\n",
    "        Опциональный параметр, по умолчанию, равен 0.95.\n",
    "\n",
    "    Returns\n",
    "    -------\n",
    "    conf_interval: Tuple[float]\n",
    "        Кортеж с границами доверительного интервала.\n",
    "\n",
    "    \"\"\"\n",
    "    left_bound = np.percentile(\n",
    "        scores, ((1 - conf_interval) / 2) * 100\n",
    "    )\n",
    "    right_bound = np.percentile(\n",
    "        scores, (conf_interval + ((1 - conf_interval) / 2)) * 100\n",
    "    )\n",
    "\n",
    "    return left_bound, right_bound"
   ]
  },
  {
   "cell_type": "code",
   "execution_count": 71,
   "metadata": {},
   "outputs": [],
   "source": [
    "scores_train = create_bootstrap_metrics(y_train, model.predict(x_train), roc_auc_score)\n",
    "scores_valid = create_bootstrap_metrics(y_valid, model.predict(x_valid), roc_auc_score)\n",
    "scores_test = create_bootstrap_metrics(y_test, model.predict(x_test), roc_auc_score)\n",
    "#scores_ldb = create_bootstrap_metrics(y_ldb, model.predict(x_ldb), roc_auc_score)"
   ]
  },
  {
   "cell_type": "code",
   "execution_count": 75,
   "metadata": {},
   "outputs": [
    {
     "name": "stdout",
     "output_type": "stream",
     "text": [
      "Доверительный интеравал для train: (0.839673124714728, 0.8549501759221684)\n",
      "Доверительный интеравал для valid: (0.7462812726251457, 0.7773021208253119)\n",
      "Доверительный интеравал для test: (0.7402114849463521, 0.7830587446381373)\n",
      "LDB-ROC_score: 0.666\n"
     ]
    }
   ],
   "source": [
    "print(f\"Доверительный интеравал для train: {calculate_confidence_interval(scores_train)}\")\n",
    "print(f\"Доверительный интеравал для valid: {calculate_confidence_interval(scores_valid)}\")\n",
    "print(f\"Доверительный интеравал для test: {calculate_confidence_interval(scores_test)}\")\n",
    "#print(f\"Доверительный интеравал для ldb: {calculate_confidence_interval(scores_ldb)}\")\n",
    "print(f\"LDB-ROC_score: {round(ldb_roc_score, 3)}\")"
   ]
  },
  {
   "cell_type": "code",
   "execution_count": null,
   "metadata": {},
   "outputs": [],
   "source": [
    "#Качество на лидерборде вне доверительного интервала, валидация плохая"
   ]
  },
  {
   "cell_type": "markdown",
   "metadata": {},
   "source": [
    "## Задание 4"
   ]
  },
  {
   "cell_type": "markdown",
   "metadata": {},
   "source": [
    "Задание 4: выполнить Adversarial Validation, подобрать объекты из обучающей выборки, которые сильно похожи на объекты из\n",
    "assignment_2_test.csv\n",
    ", и использовать их в качестве валидационного набора. Оценить качество модели на ЛБ, сделать выводы о полученных результатах."
   ]
  },
  {
   "cell_type": "code",
   "execution_count": 6,
   "metadata": {},
   "outputs": [],
   "source": [
    "x_train=data.drop([\"TransactionID\", \"isFraud\"], axis=1)\n",
    "y_train=data[\"isFraud\"]"
   ]
  },
  {
   "cell_type": "code",
   "execution_count": 10,
   "metadata": {},
   "outputs": [],
   "source": [
    "x_adv = pd.concat([\n",
    "    x_train, x_ldb], axis=0\n",
    ")\n",
    "y_adv = np.hstack((np.zeros(x_train.shape[0]), np.ones(x_ldb.shape[0])))\n",
    "assert x_adv.shape[0] == y_adv.shape[0]"
   ]
  },
  {
   "cell_type": "code",
   "execution_count": 12,
   "metadata": {},
   "outputs": [],
   "source": [
    "numerical_features = x_train.select_dtypes(exclude=[\"object\"])\n",
    "numerical_features = numerical_features.columns.tolist()"
   ]
  },
  {
   "cell_type": "code",
   "execution_count": 13,
   "metadata": {},
   "outputs": [],
   "source": [
    "x_adv = x_adv[numerical_features]"
   ]
  },
  {
   "cell_type": "code",
   "execution_count": 14,
   "metadata": {},
   "outputs": [],
   "source": [
    "x_train=x_train[numerical_features]"
   ]
  },
  {
   "cell_type": "code",
   "execution_count": 15,
   "metadata": {},
   "outputs": [],
   "source": [
    "model = xgb.XGBClassifier(n_estimators=10000,random_state=1)"
   ]
  },
  {
   "cell_type": "code",
   "execution_count": 16,
   "metadata": {},
   "outputs": [
    {
     "name": "stdout",
     "output_type": "stream",
     "text": [
      "[0]\tvalidation_0-auc:0.49362\n",
      "[1]\tvalidation_0-auc:0.49485\n",
      "[2]\tvalidation_0-auc:0.49368\n",
      "[3]\tvalidation_0-auc:0.49468\n",
      "[4]\tvalidation_0-auc:0.49505\n",
      "[5]\tvalidation_0-auc:0.49700\n",
      "[6]\tvalidation_0-auc:0.52729\n",
      "[7]\tvalidation_0-auc:0.52744\n",
      "[8]\tvalidation_0-auc:0.52615\n",
      "[9]\tvalidation_0-auc:0.52196\n",
      "[10]\tvalidation_0-auc:0.53690\n",
      "[11]\tvalidation_0-auc:0.54694\n",
      "[12]\tvalidation_0-auc:0.55363\n",
      "[13]\tvalidation_0-auc:0.54109\n",
      "[14]\tvalidation_0-auc:0.54908\n",
      "[15]\tvalidation_0-auc:0.55932\n",
      "[16]\tvalidation_0-auc:0.55535\n",
      "[17]\tvalidation_0-auc:0.55405\n",
      "[18]\tvalidation_0-auc:0.55676\n",
      "[19]\tvalidation_0-auc:0.55532\n",
      "[20]\tvalidation_0-auc:0.58495\n",
      "[21]\tvalidation_0-auc:0.58218\n",
      "[22]\tvalidation_0-auc:0.58268\n",
      "[23]\tvalidation_0-auc:0.58311\n",
      "[24]\tvalidation_0-auc:0.58189\n",
      "[25]\tvalidation_0-auc:0.58976\n",
      "[26]\tvalidation_0-auc:0.58994\n",
      "[27]\tvalidation_0-auc:0.58975\n",
      "[28]\tvalidation_0-auc:0.59743\n",
      "[29]\tvalidation_0-auc:0.59255\n",
      "[30]\tvalidation_0-auc:0.59324\n",
      "[31]\tvalidation_0-auc:0.59527\n",
      "[32]\tvalidation_0-auc:0.59568\n",
      "[33]\tvalidation_0-auc:0.59679\n",
      "[34]\tvalidation_0-auc:0.59611\n",
      "[35]\tvalidation_0-auc:0.59642\n",
      "[36]\tvalidation_0-auc:0.60191\n",
      "[37]\tvalidation_0-auc:0.59640\n",
      "[38]\tvalidation_0-auc:0.59613\n",
      "[39]\tvalidation_0-auc:0.59584\n",
      "[40]\tvalidation_0-auc:0.59716\n",
      "[41]\tvalidation_0-auc:0.59633\n",
      "[42]\tvalidation_0-auc:0.59689\n",
      "[43]\tvalidation_0-auc:0.59371\n",
      "[44]\tvalidation_0-auc:0.59523\n",
      "[45]\tvalidation_0-auc:0.59672\n"
     ]
    },
    {
     "data": {
      "text/plain": [
       "XGBClassifier(base_score=0.5, booster='gbtree', colsample_bylevel=1,\n",
       "       colsample_bynode=1, colsample_bytree=1, gamma=0, gpu_id=-1,\n",
       "       importance_type='gain', interaction_constraints='',\n",
       "       learning_rate=0.300000012, max_delta_step=0, max_depth=6,\n",
       "       min_child_weight=1, missing=nan, monotone_constraints='()',\n",
       "       n_estimators=10000, n_jobs=4, num_parallel_tree=1,\n",
       "       objective='binary:logistic', random_state=1, reg_alpha=0,\n",
       "       reg_lambda=1, scale_pos_weight=1, subsample=1, tree_method='exact',\n",
       "       use_label_encoder=True, validate_parameters=1, verbosity=None)"
      ]
     },
     "execution_count": 16,
     "metadata": {},
     "output_type": "execute_result"
    }
   ],
   "source": [
    "eval_set = [(x_adv, y_adv)]\n",
    "model.fit(x_train, y_train,early_stopping_rounds=10, eval_metric=\"auc\", eval_set=eval_set, verbose=True)"
   ]
  },
  {
   "cell_type": "code",
   "execution_count": 18,
   "metadata": {},
   "outputs": [],
   "source": [
    "x_ldb = x_ldb[numerical_features]\n"
   ]
  },
  {
   "cell_type": "code",
   "execution_count": 19,
   "metadata": {},
   "outputs": [],
   "source": [
    "train_roc_score = roc_auc_score(y_train, model.predict(x_train))\n",
    "ldb_roc_score = roc_auc_score(y_ldb, model.predict(x_ldb))\n"
   ]
  },
  {
   "cell_type": "code",
   "execution_count": 22,
   "metadata": {},
   "outputs": [
    {
     "name": "stdout",
     "output_type": "stream",
     "text": [
      "Train-ROC_score: 0.751, LDB-ROC_score: 0.654\n"
     ]
    }
   ],
   "source": [
    "print(f\"Train-ROC_score: {round(train_roc_score, 3)}, LDB-ROC_score: {round(ldb_roc_score, 3)}\")"
   ]
  },
  {
   "cell_type": "markdown",
   "metadata": {},
   "source": [
    "## Задание 5"
   ]
  },
  {
   "cell_type": "markdown",
   "metadata": {},
   "source": [
    "Задание 5: сделать KFold / StratifiedKFold валидацию (на ваше усмотрение), оценить получаемые качество и разброс по метрике качества. Сделать выводы об устойчивости кросс-валидации, сходимости оценки на кросс-валидации и отложенном наборе данных; Оценить качество на ЛБ, сделать выводы."
   ]
  },
  {
   "cell_type": "code",
   "execution_count": 23,
   "metadata": {},
   "outputs": [],
   "source": [
    "def make_cross_validation(X: pd.DataFrame,\n",
    "                          y: pd.Series,\n",
    "                          estimator: object,\n",
    "                          metric: callable,\n",
    "                          cv_strategy):\n",
    "    \"\"\"\n",
    "    Кросс-валидация.\n",
    "\n",
    "    Parameters\n",
    "    ----------\n",
    "    X: pd.DataFrame\n",
    "        Матрица признаков.\n",
    "\n",
    "    y: pd.Series\n",
    "        Вектор целевой переменной.\n",
    "\n",
    "    estimator: callable\n",
    "        Объект модели для обучения.\n",
    "\n",
    "    metric: callable\n",
    "        Метрика для оценки качества решения.\n",
    "        Ожидается, что на вход будет передана функция,\n",
    "        которая принимает 2 аргумента: y_true, y_pred.\n",
    "\n",
    "    cv_strategy: cross-validation generator\n",
    "        Объект для описания стратегии кросс-валидации.\n",
    "        Ожидается, что на вход будет передан объект типа\n",
    "        KFold или StratifiedKFold.\n",
    "\n",
    "    Returns\n",
    "    -------\n",
    "    oof_score: float\n",
    "        Значение метрики качества на OOF-прогнозах.\n",
    "\n",
    "    fold_train_scores: List[float]\n",
    "        Значение метрики качества на каждом обучающем датасете кросс-валидации.\n",
    "\n",
    "    fold_valid_scores: List[float]\n",
    "        Значение метрики качества на каждом валидационном датасете кросс-валидации.\n",
    "\n",
    "    oof_predictions: np.array\n",
    "        Прогнозы на OOF.\n",
    "\n",
    "    \"\"\"\n",
    "    estimators, fold_train_scores, fold_valid_scores = [], [], []\n",
    "    oof_predictions = np.zeros(X.shape[0])\n",
    "\n",
    "    for fold_number, (train_idx, valid_idx) in enumerate(cv_strategy.split(X, y)):\n",
    "        x_train, x_valid = X.loc[train_idx], X.loc[valid_idx]\n",
    "        y_train, y_valid = y.loc[train_idx], y.loc[valid_idx]\n",
    "\n",
    "        estimator.fit(x_train, y_train)\n",
    "        y_train_pred = estimator.predict(x_train)\n",
    "        y_valid_pred = estimator.predict(x_valid)\n",
    "\n",
    "        fold_train_scores.append(metric(y_train, y_train_pred))\n",
    "        fold_valid_scores.append(metric(y_valid, y_valid_pred))\n",
    "        oof_predictions[valid_idx] = y_valid_pred\n",
    "\n",
    "        msg = (\n",
    "            f\"Fold: {fold_number+1}, train-observations = {len(train_idx)}, \"\n",
    "            f\"valid-observations = {len(valid_idx)}\\n\"\n",
    "            f\"train-score = {round(fold_train_scores[fold_number], 4)}, \"\n",
    "            f\"valid-score = {round(fold_valid_scores[fold_number], 4)}\" \n",
    "        )\n",
    "        print(msg)\n",
    "        print(\"=\"*69)\n",
    "        estimators.append(estimator)\n",
    "\n",
    "    oof_score = metric(y, oof_predictions)\n",
    "    print(f\"CV-results train: {round(np.mean(fold_train_scores), 4)} +/- {round(np.std(fold_train_scores), 3)}\")\n",
    "    print(f\"CV-results valid: {round(np.mean(fold_valid_scores), 4)} +/- {round(np.std(fold_valid_scores), 3)}\")\n",
    "    print(f\"OOF-score = {round(oof_score, 4)}\")\n",
    "\n",
    "    return estimators, oof_score, fold_train_scores, fold_valid_scores, oof_predictions"
   ]
  },
  {
   "cell_type": "code",
   "execution_count": null,
   "metadata": {},
   "outputs": [
    {
     "name": "stdout",
     "output_type": "stream",
     "text": [
      "[21:58:43] WARNING: C:/Users/Administrator/workspace/xgboost-win64_release_1.3.0/src/learner.cc:1061: Starting in XGBoost 1.3.0, the default evaluation metric used with the objective 'binary:logistic' was changed from 'error' to 'logloss'. Explicitly set eval_metric if you'd like to restore the old behavior.\n"
     ]
    }
   ],
   "source": [
    "cv_strategy = KFold(n_splits=5, random_state=1)\n",
    "\n",
    "estimators, oof_score, fold_train_scores, fold_valid_scores, oof_predictions = make_cross_validation(\n",
    "    data[numerical_features], data[\"isFraud\"], model, metric=roc_auc_score, cv_strategy=cv_strategy\n",
    ")"
   ]
  },
  {
   "cell_type": "code",
   "execution_count": null,
   "metadata": {},
   "outputs": [],
   "source": []
  }
 ],
 "metadata": {
  "kernelspec": {
   "display_name": "Python 3",
   "language": "python",
   "name": "python3"
  },
  "language_info": {
   "codemirror_mode": {
    "name": "ipython",
    "version": 3
   },
   "file_extension": ".py",
   "mimetype": "text/x-python",
   "name": "python",
   "nbconvert_exporter": "python",
   "pygments_lexer": "ipython3",
   "version": "3.6.5"
  }
 },
 "nbformat": 4,
 "nbformat_minor": 2
}
