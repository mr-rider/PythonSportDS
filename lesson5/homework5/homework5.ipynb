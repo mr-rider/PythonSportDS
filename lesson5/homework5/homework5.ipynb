{
 "cells": [
  {
   "cell_type": "markdown",
   "metadata": {},
   "source": [
    "## Задание 0"
   ]
  },
  {
   "cell_type": "markdown",
   "metadata": {},
   "source": [
    "Задание 0: выбрать любую модель машнного обучения и зафиксировать любой тип валидации. Обучить базовую модель и зафиксировать базовое качество модели. В каждом следующем задании нужно будет обучить выбранную модель и оценивать ее качество на зафиксированной схеме валидации. После каждого задания, требуется сделать вывод о достигаемом качестве модели, по сравнению с качестом из предыдущего шага."
   ]
  },
  {
   "cell_type": "code",
   "execution_count": 1,
   "metadata": {},
   "outputs": [],
   "source": [
    "import warnings\n",
    "from tqdm import tqdm\n",
    "from typing import List, Tuple\n",
    "\n",
    "import numpy as np\n",
    "import pandas as pd\n",
    "#import seaborn as sns\n",
    "import xgboost as xgb\n",
    "import catboost as cb\n",
    "#import matplotlib.pyplot as plt\n",
    "from scipy.stats import ttest_rel\n",
    "\n",
    "from sklearn.metrics import r2_score\n",
    "#from sklearn.ensemble import RandomForestRegressor\n",
    "from sklearn.model_selection import KFold, StratifiedKFold, train_test_split, cross_val_score\n",
    "from sklearn.metrics import roc_auc_score\n",
    "\n",
    "warnings.simplefilter(\"ignore\")\n",
    "#%matplotlib inline"
   ]
  },
  {
   "cell_type": "code",
   "execution_count": 2,
   "metadata": {},
   "outputs": [],
   "source": [
    "train = pd.read_csv(\"./data/assignment_2_train.csv\")\n",
    "test = pd.read_csv(\"./data/assignment_2_test.csv\")"
   ]
  },
  {
   "cell_type": "markdown",
   "metadata": {},
   "source": [
    "## Catboost"
   ]
  },
  {
   "cell_type": "code",
   "execution_count": 3,
   "metadata": {},
   "outputs": [],
   "source": [
    "def fit_catboost(x_train, y_train, model_params, categorical, *args):\n",
    "    \"\"\"\n",
    "    Обучение модели CatBoostClassifier.\n",
    "    \n",
    "    Parametes\n",
    "    x_train: pandas.core.frame.DataFrame\n",
    "        Матрица признаков для обучения модели.\n",
    "    y_valid: pandas.core.frame.Series\n",
    "        Вектор целевой переменной для валидации\n",
    "    model_params: dict\n",
    "        Словарь со значением гиперпараметров модели\n",
    "    categorical: List[str]\n",
    "        Список с названием категориальных признаков\n",
    "    \n",
    "    Returns\n",
    "    model: catboost.core.CatBoostClassifier\n",
    "        Экземпляр обученного классификатора.\n",
    "    \"\"\"\n",
    "    eval_set = [(x_train, y_train)]\n",
    "    \n",
    "    if args == 2:\n",
    "        eval_set.append((args[0], args[1]))\n",
    "    \n",
    "    model = cb.CatBoostClassifier(**model_params)\n",
    "    model.fit(\n",
    "        X=x_train,\n",
    "        y=y_train,\n",
    "        eval_set=eval_set,\n",
    "        cat_features=categorical\n",
    "    )\n",
    "    \n",
    "    return model"
   ]
  },
  {
   "cell_type": "code",
   "execution_count": 4,
   "metadata": {},
   "outputs": [],
   "source": [
    "def evaluate_model(model, *args):\n",
    "    \"\"\"\n",
    "    Оценка качества модели.\n",
    "    \n",
    "    Parameters\n",
    "    model: catboost.core.CatBoostClassifier\n",
    "        Экземпляр обученного классификатора.\n",
    "        \n",
    "    args: pandas.core.frame.DataFrame\n",
    "        Пары из обучающей выборки и вектора истинных значений.\n",
    "        Опциональные параметры.\n",
    "    \"\"\"\n",
    "    eval_data = [(args[i], args[i+1]) for i in range(0, len(args), 2)]\n",
    "    if eval_data:\n",
    "        for sample, target in eval_data:\n",
    "            y_pred = model.predict_proba(sample)[:,1]\n",
    "            score = roc_auc_score(target, y_pred)\n",
    "            print(f\"score = {round(score,6)}\")"
   ]
  },
  {
   "cell_type": "code",
   "execution_count": 10,
   "metadata": {},
   "outputs": [],
   "source": [
    "def prepare_data(X, categorical, to_drop):\n",
    "    \"\"\"\n",
    "    Преобразование данных для передачи в модель.\n",
    "    Parameters\n",
    "    X: pandas.core.frame.DataFrame\n",
    "        Матрица признаков для передачи в модель.\n",
    "    categorical: List[str]\n",
    "        Список с названием категориальных признаков.\n",
    "    drop_features: List[str]\n",
    "        Список с названием признаков, которые не должны \n",
    "        участвововать в обучении.\n",
    "    Returns\n",
    "    X_transformed: pandas.core.frame.DataFrame\n",
    "        Матрица признаков, подготовленная для передачи в модель.\n",
    "    \"\"\"\n",
    "    X_transformed = X.copy()\n",
    "    to_drop = set(X.columns) & set(to_drop)\n",
    "    \n",
    "    if to_drop:\n",
    "        X_transformed = X_transformed.drop(to_drop, axis=1)\n",
    "    \n",
    "    X_transformed[categorical] = X_transformed[categorical].astype(str)\n",
    "    return X_transformed"
   ]
  },
  {
   "cell_type": "code",
   "execution_count": 11,
   "metadata": {},
   "outputs": [],
   "source": [
    "to_drop = [\n",
    "    \"TransactionID\",\n",
    "    \"TransactionDT\",\n",
    "    \"isFraud\",\n",
    "]\n",
    "\n",
    "categorical = train.select_dtypes(include=[\"object\"]).columns.tolist()"
   ]
  },
  {
   "cell_type": "code",
   "execution_count": 12,
   "metadata": {},
   "outputs": [],
   "source": [
    "x_train, x_valid = train_test_split(\n",
    "    train, train_size=0.7, random_state=42, shuffle=True\n",
    ")\n",
    "\n",
    "y_train, y_valid = train_test_split(\n",
    "    train[\"isFraud\"], train_size=0.7, random_state=42, shuffle=True)"
   ]
  },
  {
   "cell_type": "code",
   "execution_count": 13,
   "metadata": {},
   "outputs": [
    {
     "name": "stdout",
     "output_type": "stream",
     "text": [
      "x_train.shape = 125999 rows, 391 cols\n",
      "x_valid.shape = 54001 rows, 391 cols\n",
      "x_test.shape = 100001 rows, 391 cols\n"
     ]
    }
   ],
   "source": [
    "x_train = prepare_data(x_train, categorical=categorical, to_drop=to_drop)\n",
    "x_valid = prepare_data(x_valid, categorical=categorical, to_drop=to_drop)\n",
    "x_public_lb = prepare_data(test, categorical=categorical, to_drop=to_drop)\n",
    "\n",
    "print(\"x_train.shape = {} rows, {} cols\".format(*x_train.shape))\n",
    "print(\"x_valid.shape = {} rows, {} cols\".format(*x_valid.shape))\n",
    "print(\"x_test.shape = {} rows, {} cols\".format(*x_public_lb.shape))"
   ]
  },
  {
   "cell_type": "code",
   "execution_count": 14,
   "metadata": {},
   "outputs": [],
   "source": [
    "cb_params_1000 = {\n",
    "    \"n_estimators\": 1000,\n",
    "    \"learning_rate\": 0.01,\n",
    "    \"loss_function\": \"Logloss\",\n",
    "    \"eval_metric\": \"AUC\",\n",
    "    \"task_type\": \"CPU\",\n",
    "    \"max_bin\": 20,\n",
    "    \"verbose\": 10,\n",
    "    \"max_depth\": 6,\n",
    "    \"l2_leaf_reg\": 100,\n",
    "    \"early_stopping_rounds\":50,\n",
    "    \"thread_count\": 6,\n",
    "    \"random_seed\": 42\n",
    "}"
   ]
  },
  {
   "cell_type": "code",
   "execution_count": 15,
   "metadata": {},
   "outputs": [
    {
     "name": "stdout",
     "output_type": "stream",
     "text": [
      "0:\ttest: 0.6220983\tbest: 0.6220983 (0)\ttotal: 1.26s\tremaining: 20m 54s\n",
      "10:\ttest: 0.7901006\tbest: 0.7901006 (10)\ttotal: 11.1s\tremaining: 16m 35s\n",
      "20:\ttest: 0.7957635\tbest: 0.7975446 (16)\ttotal: 20.4s\tremaining: 15m 50s\n",
      "30:\ttest: 0.8159232\tbest: 0.8159232 (30)\ttotal: 29.7s\tremaining: 15m 27s\n",
      "40:\ttest: 0.8267817\tbest: 0.8267854 (39)\ttotal: 39s\tremaining: 15m 11s\n",
      "50:\ttest: 0.8352521\tbest: 0.8358712 (47)\ttotal: 48.8s\tremaining: 15m 8s\n",
      "60:\ttest: 0.8409616\tbest: 0.8409616 (60)\ttotal: 59.5s\tremaining: 15m 16s\n",
      "70:\ttest: 0.8417169\tbest: 0.8427111 (67)\ttotal: 1m 10s\tremaining: 15m 25s\n",
      "80:\ttest: 0.8448751\tbest: 0.8450100 (78)\ttotal: 1m 20s\tremaining: 15m 18s\n",
      "90:\ttest: 0.8473364\tbest: 0.8473364 (90)\ttotal: 1m 30s\tremaining: 15m 7s\n",
      "100:\ttest: 0.8486445\tbest: 0.8487345 (98)\ttotal: 1m 40s\tremaining: 14m 57s\n",
      "110:\ttest: 0.8507777\tbest: 0.8507777 (110)\ttotal: 1m 50s\tremaining: 14m 46s\n",
      "120:\ttest: 0.8519341\tbest: 0.8519341 (120)\ttotal: 2m\tremaining: 14m 33s\n",
      "130:\ttest: 0.8530806\tbest: 0.8534658 (129)\ttotal: 2m 9s\tremaining: 14m 19s\n",
      "140:\ttest: 0.8541555\tbest: 0.8541726 (139)\ttotal: 2m 18s\tremaining: 14m 4s\n",
      "150:\ttest: 0.8557322\tbest: 0.8557749 (148)\ttotal: 2m 28s\tremaining: 13m 55s\n",
      "160:\ttest: 0.8560578\tbest: 0.8560578 (160)\ttotal: 2m 39s\tremaining: 13m 53s\n",
      "170:\ttest: 0.8573494\tbest: 0.8573494 (170)\ttotal: 2m 57s\tremaining: 14m 19s\n",
      "180:\ttest: 0.8577017\tbest: 0.8577170 (179)\ttotal: 3m 11s\tremaining: 14m 27s\n",
      "190:\ttest: 0.8586639\tbest: 0.8586639 (190)\ttotal: 3m 26s\tremaining: 14m 35s\n",
      "200:\ttest: 0.8593090\tbest: 0.8593090 (200)\ttotal: 3m 41s\tremaining: 14m 41s\n",
      "210:\ttest: 0.8599884\tbest: 0.8600506 (207)\ttotal: 3m 57s\tremaining: 14m 47s\n",
      "220:\ttest: 0.8604746\tbest: 0.8604746 (220)\ttotal: 4m 13s\tremaining: 14m 53s\n",
      "230:\ttest: 0.8608648\tbest: 0.8608714 (227)\ttotal: 4m 29s\tremaining: 14m 57s\n",
      "240:\ttest: 0.8613027\tbest: 0.8613027 (240)\ttotal: 4m 43s\tremaining: 14m 53s\n",
      "250:\ttest: 0.8619166\tbest: 0.8619166 (250)\ttotal: 4m 57s\tremaining: 14m 48s\n",
      "260:\ttest: 0.8629126\tbest: 0.8629126 (260)\ttotal: 5m 10s\tremaining: 14m 40s\n",
      "270:\ttest: 0.8635984\tbest: 0.8635984 (270)\ttotal: 5m 23s\tremaining: 14m 31s\n",
      "280:\ttest: 0.8639867\tbest: 0.8639867 (280)\ttotal: 5m 35s\tremaining: 14m 17s\n",
      "290:\ttest: 0.8641634\tbest: 0.8641634 (290)\ttotal: 5m 50s\tremaining: 14m 14s\n",
      "300:\ttest: 0.8646995\tbest: 0.8646995 (300)\ttotal: 6m 2s\tremaining: 14m 2s\n",
      "310:\ttest: 0.8651217\tbest: 0.8651217 (310)\ttotal: 6m 14s\tremaining: 13m 48s\n",
      "320:\ttest: 0.8653221\tbest: 0.8653221 (320)\ttotal: 6m 26s\tremaining: 13m 36s\n",
      "330:\ttest: 0.8659429\tbest: 0.8659429 (330)\ttotal: 6m 37s\tremaining: 13m 24s\n",
      "340:\ttest: 0.8662131\tbest: 0.8662131 (340)\ttotal: 6m 49s\tremaining: 13m 11s\n",
      "350:\ttest: 0.8672311\tbest: 0.8672311 (350)\ttotal: 7m 1s\tremaining: 12m 59s\n",
      "360:\ttest: 0.8680875\tbest: 0.8680875 (360)\ttotal: 7m 13s\tremaining: 12m 47s\n",
      "370:\ttest: 0.8683637\tbest: 0.8683637 (370)\ttotal: 7m 27s\tremaining: 12m 38s\n",
      "380:\ttest: 0.8689090\tbest: 0.8689090 (380)\ttotal: 7m 39s\tremaining: 12m 25s\n",
      "390:\ttest: 0.8693497\tbest: 0.8693497 (390)\ttotal: 7m 51s\tremaining: 12m 13s\n",
      "400:\ttest: 0.8700913\tbest: 0.8700913 (400)\ttotal: 8m 2s\tremaining: 12m 1s\n",
      "410:\ttest: 0.8711536\tbest: 0.8711542 (409)\ttotal: 8m 14s\tremaining: 11m 48s\n",
      "420:\ttest: 0.8719574\tbest: 0.8719574 (420)\ttotal: 8m 26s\tremaining: 11m 36s\n",
      "430:\ttest: 0.8725723\tbest: 0.8725723 (430)\ttotal: 8m 39s\tremaining: 11m 25s\n",
      "440:\ttest: 0.8733236\tbest: 0.8733236 (440)\ttotal: 8m 52s\tremaining: 11m 14s\n",
      "450:\ttest: 0.8738664\tbest: 0.8738664 (450)\ttotal: 9m 4s\tremaining: 11m 2s\n",
      "460:\ttest: 0.8744869\tbest: 0.8744869 (460)\ttotal: 9m 16s\tremaining: 10m 50s\n",
      "470:\ttest: 0.8751293\tbest: 0.8751293 (470)\ttotal: 9m 29s\tremaining: 10m 39s\n",
      "480:\ttest: 0.8754508\tbest: 0.8754528 (479)\ttotal: 9m 41s\tremaining: 10m 26s\n",
      "490:\ttest: 0.8758886\tbest: 0.8758886 (490)\ttotal: 9m 51s\tremaining: 10m 13s\n",
      "500:\ttest: 0.8763290\tbest: 0.8763290 (500)\ttotal: 10m 2s\tremaining: 9m 59s\n",
      "510:\ttest: 0.8766926\tbest: 0.8766926 (510)\ttotal: 10m 12s\tremaining: 9m 46s\n",
      "520:\ttest: 0.8770680\tbest: 0.8770689 (519)\ttotal: 10m 23s\tremaining: 9m 33s\n",
      "530:\ttest: 0.8775477\tbest: 0.8775477 (530)\ttotal: 10m 34s\tremaining: 9m 20s\n",
      "540:\ttest: 0.8780766\tbest: 0.8780766 (540)\ttotal: 10m 46s\tremaining: 9m 8s\n",
      "550:\ttest: 0.8784599\tbest: 0.8784599 (550)\ttotal: 10m 57s\tremaining: 8m 55s\n",
      "560:\ttest: 0.8789152\tbest: 0.8789152 (560)\ttotal: 11m 7s\tremaining: 8m 42s\n",
      "570:\ttest: 0.8793450\tbest: 0.8793450 (570)\ttotal: 11m 18s\tremaining: 8m 29s\n",
      "580:\ttest: 0.8795976\tbest: 0.8795980 (579)\ttotal: 11m 28s\tremaining: 8m 16s\n",
      "590:\ttest: 0.8800537\tbest: 0.8800537 (590)\ttotal: 11m 40s\tremaining: 8m 4s\n",
      "600:\ttest: 0.8805202\tbest: 0.8805202 (600)\ttotal: 11m 50s\tremaining: 7m 51s\n",
      "610:\ttest: 0.8808832\tbest: 0.8808832 (610)\ttotal: 12m 3s\tremaining: 7m 40s\n",
      "620:\ttest: 0.8813070\tbest: 0.8813070 (620)\ttotal: 12m 15s\tremaining: 7m 28s\n",
      "630:\ttest: 0.8817558\tbest: 0.8817558 (630)\ttotal: 12m 29s\tremaining: 7m 18s\n",
      "640:\ttest: 0.8821312\tbest: 0.8821312 (640)\ttotal: 12m 41s\tremaining: 7m 6s\n",
      "650:\ttest: 0.8824507\tbest: 0.8824507 (650)\ttotal: 12m 53s\tremaining: 6m 54s\n",
      "660:\ttest: 0.8831050\tbest: 0.8831050 (660)\ttotal: 13m 5s\tremaining: 6m 42s\n",
      "670:\ttest: 0.8833435\tbest: 0.8833435 (670)\ttotal: 13m 17s\tremaining: 6m 31s\n",
      "680:\ttest: 0.8836332\tbest: 0.8836332 (680)\ttotal: 13m 29s\tremaining: 6m 18s\n",
      "690:\ttest: 0.8839564\tbest: 0.8839564 (690)\ttotal: 13m 42s\tremaining: 6m 7s\n",
      "700:\ttest: 0.8842866\tbest: 0.8842866 (700)\ttotal: 13m 54s\tremaining: 5m 56s\n",
      "710:\ttest: 0.8847628\tbest: 0.8847628 (710)\ttotal: 14m 6s\tremaining: 5m 44s\n",
      "720:\ttest: 0.8852033\tbest: 0.8852033 (720)\ttotal: 14m 18s\tremaining: 5m 32s\n",
      "730:\ttest: 0.8855661\tbest: 0.8855661 (730)\ttotal: 14m 30s\tremaining: 5m 20s\n",
      "740:\ttest: 0.8858170\tbest: 0.8858170 (740)\ttotal: 14m 42s\tremaining: 5m 8s\n",
      "750:\ttest: 0.8862976\tbest: 0.8862976 (750)\ttotal: 14m 54s\tremaining: 4m 56s\n",
      "760:\ttest: 0.8865662\tbest: 0.8865662 (760)\ttotal: 15m 6s\tremaining: 4m 44s\n",
      "770:\ttest: 0.8870034\tbest: 0.8870034 (770)\ttotal: 15m 21s\tremaining: 4m 33s\n",
      "780:\ttest: 0.8871730\tbest: 0.8871730 (780)\ttotal: 15m 34s\tremaining: 4m 22s\n",
      "790:\ttest: 0.8874521\tbest: 0.8874521 (790)\ttotal: 15m 46s\tremaining: 4m 10s\n",
      "800:\ttest: 0.8876349\tbest: 0.8876349 (800)\ttotal: 15m 58s\tremaining: 3m 58s\n",
      "810:\ttest: 0.8879312\tbest: 0.8879312 (810)\ttotal: 16m 10s\tremaining: 3m 46s\n",
      "820:\ttest: 0.8881548\tbest: 0.8881548 (820)\ttotal: 16m 22s\tremaining: 3m 34s\n",
      "830:\ttest: 0.8883953\tbest: 0.8883953 (830)\ttotal: 16m 34s\tremaining: 3m 22s\n",
      "840:\ttest: 0.8887600\tbest: 0.8887600 (840)\ttotal: 16m 46s\tremaining: 3m 10s\n",
      "850:\ttest: 0.8890174\tbest: 0.8890174 (850)\ttotal: 16m 58s\tremaining: 2m 58s\n",
      "860:\ttest: 0.8892498\tbest: 0.8892498 (860)\ttotal: 17m 10s\tremaining: 2m 46s\n",
      "870:\ttest: 0.8894655\tbest: 0.8894655 (870)\ttotal: 17m 22s\tremaining: 2m 34s\n",
      "880:\ttest: 0.8897623\tbest: 0.8897623 (880)\ttotal: 17m 33s\tremaining: 2m 22s\n",
      "890:\ttest: 0.8899849\tbest: 0.8899849 (890)\ttotal: 17m 44s\tremaining: 2m 10s\n",
      "900:\ttest: 0.8903067\tbest: 0.8903067 (900)\ttotal: 17m 55s\tremaining: 1m 58s\n",
      "910:\ttest: 0.8905304\tbest: 0.8905304 (910)\ttotal: 18m 6s\tremaining: 1m 46s\n",
      "920:\ttest: 0.8907035\tbest: 0.8907035 (920)\ttotal: 18m 18s\tremaining: 1m 34s\n",
      "930:\ttest: 0.8909438\tbest: 0.8909438 (930)\ttotal: 18m 29s\tremaining: 1m 22s\n",
      "940:\ttest: 0.8911277\tbest: 0.8911277 (940)\ttotal: 18m 40s\tremaining: 1m 10s\n",
      "950:\ttest: 0.8913795\tbest: 0.8913795 (950)\ttotal: 18m 52s\tremaining: 58.3s\n",
      "960:\ttest: 0.8916377\tbest: 0.8916377 (960)\ttotal: 19m 3s\tremaining: 46.4s\n",
      "970:\ttest: 0.8918007\tbest: 0.8918007 (970)\ttotal: 19m 13s\tremaining: 34.4s\n",
      "980:\ttest: 0.8918719\tbest: 0.8918719 (980)\ttotal: 19m 23s\tremaining: 22.5s\n",
      "990:\ttest: 0.8921324\tbest: 0.8921324 (990)\ttotal: 19m 33s\tremaining: 10.7s\n",
      "999:\ttest: 0.8923703\tbest: 0.8923703 (999)\ttotal: 19m 43s\tremaining: 0us\n",
      "\n",
      "bestTest = 0.8923702909\n",
      "bestIteration = 999\n",
      "\n"
     ]
    }
   ],
   "source": [
    "\n",
    "model = fit_catboost(x_train, y_train, cb_params_1000, categorical, x_valid, y_valid)"
   ]
  },
  {
   "cell_type": "code",
   "execution_count": 16,
   "metadata": {},
   "outputs": [
    {
     "name": "stdout",
     "output_type": "stream",
     "text": [
      "score = 0.89237\n",
      "score = 0.885213\n",
      "score = 0.863983\n"
     ]
    }
   ],
   "source": [
    "evaluate_model(model, x_train, y_train, x_valid, y_valid, x_public_lb, test[\"isFraud\"])"
   ]
  },
  {
   "cell_type": "markdown",
   "metadata": {},
   "source": [
    "bestTest = 0.8923702909\n",
    "bestIteration = 999\n",
    "\n",
    "score = 0.89237\n",
    "score = 0.885213\n",
    "score = 0.863983"
   ]
  },
  {
   "cell_type": "markdown",
   "metadata": {},
   "source": [
    "## Задание 1"
   ]
  },
  {
   "cell_type": "markdown",
   "metadata": {},
   "source": [
    "Задание 1: признак TransactionDT - это смещение в секундах относительно базовой даты. Базовая дата - 2017-12-01, преобразовать признак TransactionDT в datetime, прибавив к базовой дате исходное значение признака. Из полученного признака выделить год, месяц, день недели, час, день."
   ]
  },
  {
   "cell_type": "code",
   "execution_count": 17,
   "metadata": {},
   "outputs": [],
   "source": [
    "import datetime as dt\n",
    "from datetime import timedelta"
   ]
  },
  {
   "cell_type": "code",
   "execution_count": 18,
   "metadata": {},
   "outputs": [
    {
     "data": {
      "text/plain": [
       "0    86400\n",
       "1    86401\n",
       "2    86469\n",
       "3    86499\n",
       "4    86506\n",
       "Name: TransactionDT, dtype: int64"
      ]
     },
     "execution_count": 18,
     "metadata": {},
     "output_type": "execute_result"
    }
   ],
   "source": [
    "train['TransactionDT'].head()"
   ]
  },
  {
   "cell_type": "code",
   "execution_count": 19,
   "metadata": {},
   "outputs": [],
   "source": [
    "base_date = '2017-12-01'\n"
   ]
  },
  {
   "cell_type": "code",
   "execution_count": 20,
   "metadata": {},
   "outputs": [],
   "source": [
    "base_date = dt.datetime.strptime(base_date, '%Y-%m-%d')"
   ]
  },
  {
   "cell_type": "code",
   "execution_count": 21,
   "metadata": {},
   "outputs": [
    {
     "data": {
      "text/plain": [
       "dtype('int64')"
      ]
     },
     "execution_count": 21,
     "metadata": {},
     "output_type": "execute_result"
    }
   ],
   "source": [
    "train['TransactionDT'].dtypes"
   ]
  },
  {
   "cell_type": "code",
   "execution_count": 22,
   "metadata": {},
   "outputs": [],
   "source": [
    "train['TransactionDT'] = train['TransactionDT'].apply(lambda x: base_date + timedelta(seconds=x))"
   ]
  },
  {
   "cell_type": "code",
   "execution_count": 23,
   "metadata": {},
   "outputs": [
    {
     "data": {
      "text/plain": [
       "0   2017-12-02 00:00:00\n",
       "1   2017-12-02 00:00:01\n",
       "2   2017-12-02 00:01:09\n",
       "3   2017-12-02 00:01:39\n",
       "4   2017-12-02 00:01:46\n",
       "Name: TransactionDT, dtype: datetime64[ns]"
      ]
     },
     "execution_count": 23,
     "metadata": {},
     "output_type": "execute_result"
    }
   ],
   "source": [
    "train['TransactionDT'].head()"
   ]
  },
  {
   "cell_type": "code",
   "execution_count": null,
   "metadata": {},
   "outputs": [],
   "source": [
    "#Из полученного признака выделить год, месяц, день недели, час, день."
   ]
  },
  {
   "cell_type": "code",
   "execution_count": 24,
   "metadata": {},
   "outputs": [
    {
     "data": {
      "text/html": [
       "<div>\n",
       "<style scoped>\n",
       "    .dataframe tbody tr th:only-of-type {\n",
       "        vertical-align: middle;\n",
       "    }\n",
       "\n",
       "    .dataframe tbody tr th {\n",
       "        vertical-align: top;\n",
       "    }\n",
       "\n",
       "    .dataframe thead th {\n",
       "        text-align: right;\n",
       "    }\n",
       "</style>\n",
       "<table border=\"1\" class=\"dataframe\">\n",
       "  <thead>\n",
       "    <tr style=\"text-align: right;\">\n",
       "      <th></th>\n",
       "      <th>TransactionID</th>\n",
       "      <th>isFraud</th>\n",
       "      <th>TransactionDT</th>\n",
       "      <th>TransactionAmt</th>\n",
       "      <th>ProductCD</th>\n",
       "      <th>card1</th>\n",
       "      <th>card2</th>\n",
       "      <th>card3</th>\n",
       "      <th>card4</th>\n",
       "      <th>card5</th>\n",
       "      <th>...</th>\n",
       "      <th>V335</th>\n",
       "      <th>V336</th>\n",
       "      <th>V337</th>\n",
       "      <th>V338</th>\n",
       "      <th>V339</th>\n",
       "      <th>year</th>\n",
       "      <th>month</th>\n",
       "      <th>day_of_week</th>\n",
       "      <th>day</th>\n",
       "      <th>hour</th>\n",
       "    </tr>\n",
       "  </thead>\n",
       "  <tbody>\n",
       "    <tr>\n",
       "      <th>0</th>\n",
       "      <td>2987000</td>\n",
       "      <td>0</td>\n",
       "      <td>2017-12-02 00:00:00</td>\n",
       "      <td>68.5</td>\n",
       "      <td>W</td>\n",
       "      <td>13926</td>\n",
       "      <td>NaN</td>\n",
       "      <td>150.0</td>\n",
       "      <td>discover</td>\n",
       "      <td>142.0</td>\n",
       "      <td>...</td>\n",
       "      <td>NaN</td>\n",
       "      <td>NaN</td>\n",
       "      <td>NaN</td>\n",
       "      <td>NaN</td>\n",
       "      <td>NaN</td>\n",
       "      <td>2017</td>\n",
       "      <td>12</td>\n",
       "      <td>5</td>\n",
       "      <td>2</td>\n",
       "      <td>0</td>\n",
       "    </tr>\n",
       "    <tr>\n",
       "      <th>1</th>\n",
       "      <td>2987001</td>\n",
       "      <td>0</td>\n",
       "      <td>2017-12-02 00:00:01</td>\n",
       "      <td>29.0</td>\n",
       "      <td>W</td>\n",
       "      <td>2755</td>\n",
       "      <td>404.0</td>\n",
       "      <td>150.0</td>\n",
       "      <td>mastercard</td>\n",
       "      <td>102.0</td>\n",
       "      <td>...</td>\n",
       "      <td>NaN</td>\n",
       "      <td>NaN</td>\n",
       "      <td>NaN</td>\n",
       "      <td>NaN</td>\n",
       "      <td>NaN</td>\n",
       "      <td>2017</td>\n",
       "      <td>12</td>\n",
       "      <td>5</td>\n",
       "      <td>2</td>\n",
       "      <td>0</td>\n",
       "    </tr>\n",
       "    <tr>\n",
       "      <th>2</th>\n",
       "      <td>2987002</td>\n",
       "      <td>0</td>\n",
       "      <td>2017-12-02 00:01:09</td>\n",
       "      <td>59.0</td>\n",
       "      <td>W</td>\n",
       "      <td>4663</td>\n",
       "      <td>490.0</td>\n",
       "      <td>150.0</td>\n",
       "      <td>visa</td>\n",
       "      <td>166.0</td>\n",
       "      <td>...</td>\n",
       "      <td>NaN</td>\n",
       "      <td>NaN</td>\n",
       "      <td>NaN</td>\n",
       "      <td>NaN</td>\n",
       "      <td>NaN</td>\n",
       "      <td>2017</td>\n",
       "      <td>12</td>\n",
       "      <td>5</td>\n",
       "      <td>2</td>\n",
       "      <td>0</td>\n",
       "    </tr>\n",
       "    <tr>\n",
       "      <th>3</th>\n",
       "      <td>2987003</td>\n",
       "      <td>0</td>\n",
       "      <td>2017-12-02 00:01:39</td>\n",
       "      <td>50.0</td>\n",
       "      <td>W</td>\n",
       "      <td>18132</td>\n",
       "      <td>567.0</td>\n",
       "      <td>150.0</td>\n",
       "      <td>mastercard</td>\n",
       "      <td>117.0</td>\n",
       "      <td>...</td>\n",
       "      <td>NaN</td>\n",
       "      <td>NaN</td>\n",
       "      <td>NaN</td>\n",
       "      <td>NaN</td>\n",
       "      <td>NaN</td>\n",
       "      <td>2017</td>\n",
       "      <td>12</td>\n",
       "      <td>5</td>\n",
       "      <td>2</td>\n",
       "      <td>0</td>\n",
       "    </tr>\n",
       "    <tr>\n",
       "      <th>4</th>\n",
       "      <td>2987004</td>\n",
       "      <td>0</td>\n",
       "      <td>2017-12-02 00:01:46</td>\n",
       "      <td>50.0</td>\n",
       "      <td>H</td>\n",
       "      <td>4497</td>\n",
       "      <td>514.0</td>\n",
       "      <td>150.0</td>\n",
       "      <td>mastercard</td>\n",
       "      <td>102.0</td>\n",
       "      <td>...</td>\n",
       "      <td>0.0</td>\n",
       "      <td>0.0</td>\n",
       "      <td>0.0</td>\n",
       "      <td>0.0</td>\n",
       "      <td>0.0</td>\n",
       "      <td>2017</td>\n",
       "      <td>12</td>\n",
       "      <td>5</td>\n",
       "      <td>2</td>\n",
       "      <td>0</td>\n",
       "    </tr>\n",
       "  </tbody>\n",
       "</table>\n",
       "<p>5 rows × 399 columns</p>\n",
       "</div>"
      ],
      "text/plain": [
       "   TransactionID  isFraud       TransactionDT  TransactionAmt ProductCD  \\\n",
       "0        2987000        0 2017-12-02 00:00:00            68.5         W   \n",
       "1        2987001        0 2017-12-02 00:00:01            29.0         W   \n",
       "2        2987002        0 2017-12-02 00:01:09            59.0         W   \n",
       "3        2987003        0 2017-12-02 00:01:39            50.0         W   \n",
       "4        2987004        0 2017-12-02 00:01:46            50.0         H   \n",
       "\n",
       "   card1  card2  card3       card4  card5  ... V335  V336  V337  V338  V339  \\\n",
       "0  13926    NaN  150.0    discover  142.0  ...  NaN   NaN   NaN   NaN   NaN   \n",
       "1   2755  404.0  150.0  mastercard  102.0  ...  NaN   NaN   NaN   NaN   NaN   \n",
       "2   4663  490.0  150.0        visa  166.0  ...  NaN   NaN   NaN   NaN   NaN   \n",
       "3  18132  567.0  150.0  mastercard  117.0  ...  NaN   NaN   NaN   NaN   NaN   \n",
       "4   4497  514.0  150.0  mastercard  102.0  ...  0.0   0.0   0.0   0.0   0.0   \n",
       "\n",
       "   year month  day_of_week  day  hour  \n",
       "0  2017    12            5    2     0  \n",
       "1  2017    12            5    2     0  \n",
       "2  2017    12            5    2     0  \n",
       "3  2017    12            5    2     0  \n",
       "4  2017    12            5    2     0  \n",
       "\n",
       "[5 rows x 399 columns]"
      ]
     },
     "execution_count": 24,
     "metadata": {},
     "output_type": "execute_result"
    }
   ],
   "source": [
    "train['year'] = train['TransactionDT'].dt.year\n",
    "train['month'] = train['TransactionDT'].dt.month\n",
    "train['day_of_week'] = train['TransactionDT'].dt.weekday\n",
    "train['day'] = train['TransactionDT'].dt.day\n",
    "train['hour'] = train['TransactionDT'].dt.hour\n",
    "\n",
    "train.head()"
   ]
  },
  {
   "cell_type": "code",
   "execution_count": 29,
   "metadata": {},
   "outputs": [],
   "source": [
    "test['TransactionDT'] = test['TransactionDT'].apply(lambda x: base_date + timedelta(seconds=x))"
   ]
  },
  {
   "cell_type": "code",
   "execution_count": 30,
   "metadata": {},
   "outputs": [],
   "source": [
    "test['year'] = test['TransactionDT'].dt.year\n",
    "test['month'] = test['TransactionDT'].dt.month\n",
    "test['day_of_week'] = test['TransactionDT'].dt.weekday\n",
    "test['day'] = test['TransactionDT'].dt.day\n",
    "test['hour'] = test['TransactionDT'].dt.hour\n"
   ]
  },
  {
   "cell_type": "code",
   "execution_count": 25,
   "metadata": {},
   "outputs": [],
   "source": [
    "to_drop = [\n",
    "    \"TransactionID\",\n",
    "    #\"TransactionDT\",\n",
    "    \"isFraud\",\n",
    "]\n",
    "\n",
    "categorical = train.select_dtypes(include=[\"object\"]).columns.tolist()"
   ]
  },
  {
   "cell_type": "code",
   "execution_count": 26,
   "metadata": {},
   "outputs": [
    {
     "data": {
      "text/plain": [
       "['ProductCD',\n",
       " 'card4',\n",
       " 'card6',\n",
       " 'P_emaildomain',\n",
       " 'R_emaildomain',\n",
       " 'M1',\n",
       " 'M2',\n",
       " 'M3',\n",
       " 'M4',\n",
       " 'M5',\n",
       " 'M6',\n",
       " 'M7',\n",
       " 'M8',\n",
       " 'M9']"
      ]
     },
     "execution_count": 26,
     "metadata": {},
     "output_type": "execute_result"
    }
   ],
   "source": [
    "categorical"
   ]
  },
  {
   "cell_type": "code",
   "execution_count": 27,
   "metadata": {},
   "outputs": [],
   "source": [
    "x_train, x_valid = train_test_split(\n",
    "    train, train_size=0.7, random_state=42, shuffle=True\n",
    ")\n",
    "\n",
    "y_train, y_valid = train_test_split(\n",
    "    train[\"isFraud\"], train_size=0.7, random_state=42, shuffle=True)"
   ]
  },
  {
   "cell_type": "code",
   "execution_count": 31,
   "metadata": {},
   "outputs": [
    {
     "name": "stdout",
     "output_type": "stream",
     "text": [
      "x_train.shape = 125999 rows, 397 cols\n",
      "x_valid.shape = 54001 rows, 397 cols\n",
      "x_test.shape = 100001 rows, 397 cols\n"
     ]
    }
   ],
   "source": [
    "x_train = prepare_data(x_train, categorical=categorical, to_drop=to_drop)\n",
    "x_valid = prepare_data(x_valid, categorical=categorical, to_drop=to_drop)\n",
    "x_public_lb = prepare_data(test, categorical=categorical, to_drop=to_drop)\n",
    "\n",
    "print(\"x_train.shape = {} rows, {} cols\".format(*x_train.shape))\n",
    "print(\"x_valid.shape = {} rows, {} cols\".format(*x_valid.shape))\n",
    "print(\"x_test.shape = {} rows, {} cols\".format(*x_public_lb.shape))"
   ]
  },
  {
   "cell_type": "code",
   "execution_count": 32,
   "metadata": {},
   "outputs": [],
   "source": [
    "cb_params_1000 = {\n",
    "    \"n_estimators\": 1000,\n",
    "    \"learning_rate\": 0.01,\n",
    "    \"loss_function\": \"Logloss\",\n",
    "    \"eval_metric\": \"AUC\",\n",
    "    \"task_type\": \"CPU\",\n",
    "    \"max_bin\": 20,\n",
    "    \"verbose\": 10,\n",
    "    \"max_depth\": 6,\n",
    "    \"l2_leaf_reg\": 100,\n",
    "    \"early_stopping_rounds\":50,\n",
    "    \"thread_count\": 6,\n",
    "    \"random_seed\": 42\n",
    "}"
   ]
  },
  {
   "cell_type": "code",
   "execution_count": 33,
   "metadata": {},
   "outputs": [
    {
     "name": "stdout",
     "output_type": "stream",
     "text": [
      "0:\ttest: 0.5931492\tbest: 0.5931492 (0)\ttotal: 1.22s\tremaining: 20m 19s\n",
      "10:\ttest: 0.7436064\tbest: 0.7461541 (8)\ttotal: 12.7s\tremaining: 19m 3s\n",
      "20:\ttest: 0.7692455\tbest: 0.7692455 (20)\ttotal: 23.5s\tremaining: 18m 13s\n",
      "30:\ttest: 0.7904620\tbest: 0.7911865 (27)\ttotal: 34.2s\tremaining: 17m 49s\n",
      "40:\ttest: 0.7956304\tbest: 0.7956304 (40)\ttotal: 44.9s\tremaining: 17m 29s\n",
      "50:\ttest: 0.8047363\tbest: 0.8047580 (49)\ttotal: 56.1s\tremaining: 17m 23s\n",
      "60:\ttest: 0.8189490\tbest: 0.8189490 (60)\ttotal: 1m 7s\tremaining: 17m 23s\n",
      "70:\ttest: 0.8222860\tbest: 0.8223531 (67)\ttotal: 1m 18s\tremaining: 17m 8s\n",
      "80:\ttest: 0.8299961\tbest: 0.8299961 (80)\ttotal: 1m 29s\tremaining: 16m 55s\n",
      "90:\ttest: 0.8349988\tbest: 0.8349988 (90)\ttotal: 1m 40s\tremaining: 16m 42s\n",
      "100:\ttest: 0.8403358\tbest: 0.8403358 (100)\ttotal: 1m 51s\tremaining: 16m 33s\n",
      "110:\ttest: 0.8415116\tbest: 0.8415116 (110)\ttotal: 2m 2s\tremaining: 16m 20s\n",
      "120:\ttest: 0.8461814\tbest: 0.8461814 (120)\ttotal: 2m 13s\tremaining: 16m 11s\n",
      "130:\ttest: 0.8478019\tbest: 0.8478019 (130)\ttotal: 2m 26s\tremaining: 16m 11s\n",
      "140:\ttest: 0.8503112\tbest: 0.8503112 (140)\ttotal: 2m 38s\tremaining: 16m 6s\n",
      "150:\ttest: 0.8514945\tbest: 0.8514945 (150)\ttotal: 2m 51s\tremaining: 16m 3s\n",
      "160:\ttest: 0.8520163\tbest: 0.8520224 (154)\ttotal: 3m 5s\tremaining: 16m 4s\n",
      "170:\ttest: 0.8524088\tbest: 0.8525561 (167)\ttotal: 3m 18s\tremaining: 16m 1s\n",
      "180:\ttest: 0.8535261\tbest: 0.8535261 (180)\ttotal: 3m 31s\tremaining: 15m 58s\n",
      "190:\ttest: 0.8542856\tbest: 0.8542856 (190)\ttotal: 3m 44s\tremaining: 15m 49s\n",
      "200:\ttest: 0.8561905\tbest: 0.8561905 (200)\ttotal: 3m 56s\tremaining: 15m 40s\n",
      "210:\ttest: 0.8570088\tbest: 0.8570088 (210)\ttotal: 4m 7s\tremaining: 15m 25s\n",
      "220:\ttest: 0.8581593\tbest: 0.8581593 (220)\ttotal: 4m 18s\tremaining: 15m 10s\n",
      "230:\ttest: 0.8599419\tbest: 0.8599419 (230)\ttotal: 4m 29s\tremaining: 14m 56s\n",
      "240:\ttest: 0.8601733\tbest: 0.8603059 (237)\ttotal: 4m 40s\tremaining: 14m 42s\n",
      "250:\ttest: 0.8611423\tbest: 0.8611423 (250)\ttotal: 4m 50s\tremaining: 14m 27s\n",
      "260:\ttest: 0.8624670\tbest: 0.8624670 (260)\ttotal: 5m 1s\tremaining: 14m 14s\n",
      "270:\ttest: 0.8633048\tbest: 0.8633048 (270)\ttotal: 5m 12s\tremaining: 14m 1s\n",
      "280:\ttest: 0.8642680\tbest: 0.8642680 (280)\ttotal: 5m 23s\tremaining: 13m 47s\n",
      "290:\ttest: 0.8657651\tbest: 0.8657651 (290)\ttotal: 5m 35s\tremaining: 13m 36s\n",
      "300:\ttest: 0.8669379\tbest: 0.8669379 (300)\ttotal: 5m 46s\tremaining: 13m 24s\n",
      "310:\ttest: 0.8674562\tbest: 0.8674562 (310)\ttotal: 5m 57s\tremaining: 13m 11s\n",
      "320:\ttest: 0.8680667\tbest: 0.8680878 (319)\ttotal: 6m 7s\tremaining: 12m 58s\n",
      "330:\ttest: 0.8685225\tbest: 0.8685225 (330)\ttotal: 6m 18s\tremaining: 12m 45s\n",
      "340:\ttest: 0.8687014\tbest: 0.8687014 (340)\ttotal: 6m 29s\tremaining: 12m 33s\n",
      "350:\ttest: 0.8699658\tbest: 0.8699658 (350)\ttotal: 6m 41s\tremaining: 12m 22s\n",
      "360:\ttest: 0.8706159\tbest: 0.8706159 (360)\ttotal: 6m 52s\tremaining: 12m 10s\n",
      "370:\ttest: 0.8716304\tbest: 0.8716428 (369)\ttotal: 7m 3s\tremaining: 11m 58s\n",
      "380:\ttest: 0.8728557\tbest: 0.8728557 (380)\ttotal: 7m 14s\tremaining: 11m 45s\n",
      "390:\ttest: 0.8733185\tbest: 0.8733185 (390)\ttotal: 7m 24s\tremaining: 11m 32s\n",
      "400:\ttest: 0.8739645\tbest: 0.8739645 (400)\ttotal: 7m 35s\tremaining: 11m 19s\n",
      "410:\ttest: 0.8745333\tbest: 0.8745333 (410)\ttotal: 7m 46s\tremaining: 11m 8s\n",
      "420:\ttest: 0.8755923\tbest: 0.8755923 (420)\ttotal: 7m 57s\tremaining: 10m 56s\n",
      "430:\ttest: 0.8764626\tbest: 0.8764626 (430)\ttotal: 8m 8s\tremaining: 10m 44s\n",
      "440:\ttest: 0.8771311\tbest: 0.8771311 (440)\ttotal: 8m 19s\tremaining: 10m 32s\n",
      "450:\ttest: 0.8778328\tbest: 0.8778328 (450)\ttotal: 8m 30s\tremaining: 10m 21s\n",
      "460:\ttest: 0.8784312\tbest: 0.8784312 (460)\ttotal: 8m 41s\tremaining: 10m 9s\n",
      "470:\ttest: 0.8792120\tbest: 0.8792120 (470)\ttotal: 8m 51s\tremaining: 9m 57s\n",
      "480:\ttest: 0.8796592\tbest: 0.8796592 (480)\ttotal: 9m 2s\tremaining: 9m 45s\n",
      "490:\ttest: 0.8803886\tbest: 0.8803886 (490)\ttotal: 9m 13s\tremaining: 9m 33s\n",
      "500:\ttest: 0.8806601\tbest: 0.8806660 (499)\ttotal: 9m 24s\tremaining: 9m 22s\n",
      "510:\ttest: 0.8812352\tbest: 0.8812352 (510)\ttotal: 9m 34s\tremaining: 9m 10s\n",
      "520:\ttest: 0.8815580\tbest: 0.8815580 (520)\ttotal: 9m 46s\tremaining: 8m 59s\n",
      "530:\ttest: 0.8820744\tbest: 0.8820744 (530)\ttotal: 9m 57s\tremaining: 8m 47s\n",
      "540:\ttest: 0.8824508\tbest: 0.8824508 (540)\ttotal: 10m 8s\tremaining: 8m 36s\n",
      "550:\ttest: 0.8828459\tbest: 0.8828459 (550)\ttotal: 10m 19s\tremaining: 8m 24s\n",
      "560:\ttest: 0.8832621\tbest: 0.8832621 (560)\ttotal: 10m 30s\tremaining: 8m 13s\n",
      "570:\ttest: 0.8839062\tbest: 0.8839062 (570)\ttotal: 10m 41s\tremaining: 8m 1s\n",
      "580:\ttest: 0.8846155\tbest: 0.8846164 (579)\ttotal: 10m 51s\tremaining: 7m 50s\n",
      "590:\ttest: 0.8850349\tbest: 0.8850349 (590)\ttotal: 11m 2s\tremaining: 7m 38s\n",
      "600:\ttest: 0.8854424\tbest: 0.8854424 (600)\ttotal: 11m 12s\tremaining: 7m 26s\n",
      "610:\ttest: 0.8861228\tbest: 0.8861228 (610)\ttotal: 11m 23s\tremaining: 7m 15s\n",
      "620:\ttest: 0.8867380\tbest: 0.8867380 (620)\ttotal: 11m 33s\tremaining: 7m 3s\n",
      "630:\ttest: 0.8872255\tbest: 0.8872255 (630)\ttotal: 11m 43s\tremaining: 6m 51s\n",
      "640:\ttest: 0.8875054\tbest: 0.8875054 (640)\ttotal: 11m 53s\tremaining: 6m 39s\n",
      "650:\ttest: 0.8879047\tbest: 0.8879047 (650)\ttotal: 12m 3s\tremaining: 6m 27s\n",
      "660:\ttest: 0.8884054\tbest: 0.8884054 (660)\ttotal: 12m 13s\tremaining: 6m 16s\n",
      "670:\ttest: 0.8888190\tbest: 0.8888190 (670)\ttotal: 12m 23s\tremaining: 6m 4s\n",
      "680:\ttest: 0.8891587\tbest: 0.8891587 (680)\ttotal: 12m 34s\tremaining: 5m 53s\n",
      "690:\ttest: 0.8895170\tbest: 0.8895170 (690)\ttotal: 12m 46s\tremaining: 5m 42s\n",
      "700:\ttest: 0.8898249\tbest: 0.8898249 (700)\ttotal: 12m 57s\tremaining: 5m 31s\n",
      "710:\ttest: 0.8901886\tbest: 0.8901886 (710)\ttotal: 13m 7s\tremaining: 5m 20s\n",
      "720:\ttest: 0.8903624\tbest: 0.8903624 (720)\ttotal: 13m 18s\tremaining: 5m 8s\n",
      "730:\ttest: 0.8906636\tbest: 0.8906636 (730)\ttotal: 13m 28s\tremaining: 4m 57s\n",
      "740:\ttest: 0.8909528\tbest: 0.8909528 (740)\ttotal: 13m 41s\tremaining: 4m 47s\n",
      "750:\ttest: 0.8911497\tbest: 0.8911497 (750)\ttotal: 13m 54s\tremaining: 4m 36s\n",
      "760:\ttest: 0.8913656\tbest: 0.8913656 (760)\ttotal: 14m 7s\tremaining: 4m 26s\n",
      "770:\ttest: 0.8916018\tbest: 0.8916018 (770)\ttotal: 14m 18s\tremaining: 4m 15s\n",
      "780:\ttest: 0.8919000\tbest: 0.8919000 (780)\ttotal: 14m 29s\tremaining: 4m 3s\n",
      "790:\ttest: 0.8921479\tbest: 0.8921479 (790)\ttotal: 14m 40s\tremaining: 3m 52s\n",
      "800:\ttest: 0.8923291\tbest: 0.8923291 (800)\ttotal: 14m 51s\tremaining: 3m 41s\n",
      "810:\ttest: 0.8925225\tbest: 0.8925225 (810)\ttotal: 15m 1s\tremaining: 3m 30s\n",
      "820:\ttest: 0.8927341\tbest: 0.8927341 (820)\ttotal: 15m 11s\tremaining: 3m 18s\n",
      "830:\ttest: 0.8928564\tbest: 0.8928564 (830)\ttotal: 15m 22s\tremaining: 3m 7s\n",
      "840:\ttest: 0.8931322\tbest: 0.8931322 (840)\ttotal: 15m 32s\tremaining: 2m 56s\n",
      "850:\ttest: 0.8933572\tbest: 0.8933572 (850)\ttotal: 15m 42s\tremaining: 2m 44s\n",
      "860:\ttest: 0.8937239\tbest: 0.8937239 (860)\ttotal: 15m 52s\tremaining: 2m 33s\n",
      "870:\ttest: 0.8938882\tbest: 0.8938882 (870)\ttotal: 16m 2s\tremaining: 2m 22s\n",
      "880:\ttest: 0.8940682\tbest: 0.8940682 (880)\ttotal: 16m 12s\tremaining: 2m 11s\n",
      "890:\ttest: 0.8944137\tbest: 0.8944137 (890)\ttotal: 16m 22s\tremaining: 2m\n",
      "900:\ttest: 0.8946232\tbest: 0.8946232 (900)\ttotal: 16m 34s\tremaining: 1m 49s\n",
      "910:\ttest: 0.8947897\tbest: 0.8947897 (910)\ttotal: 16m 44s\tremaining: 1m 38s\n",
      "920:\ttest: 0.8951035\tbest: 0.8951035 (920)\ttotal: 16m 54s\tremaining: 1m 26s\n",
      "930:\ttest: 0.8953239\tbest: 0.8953239 (930)\ttotal: 17m 4s\tremaining: 1m 15s\n",
      "940:\ttest: 0.8955993\tbest: 0.8955993 (940)\ttotal: 17m 14s\tremaining: 1m 4s\n",
      "950:\ttest: 0.8958539\tbest: 0.8958539 (950)\ttotal: 17m 25s\tremaining: 53.9s\n",
      "960:\ttest: 0.8961086\tbest: 0.8961086 (960)\ttotal: 17m 35s\tremaining: 42.8s\n",
      "970:\ttest: 0.8964266\tbest: 0.8964266 (970)\ttotal: 17m 45s\tremaining: 31.8s\n",
      "980:\ttest: 0.8966313\tbest: 0.8966313 (980)\ttotal: 17m 55s\tremaining: 20.8s\n",
      "990:\ttest: 0.8967807\tbest: 0.8967807 (990)\ttotal: 18m 5s\tremaining: 9.86s\n",
      "999:\ttest: 0.8969466\tbest: 0.8969466 (999)\ttotal: 18m 15s\tremaining: 0us\n",
      "\n",
      "bestTest = 0.8969465533\n",
      "bestIteration = 999\n",
      "\n"
     ]
    }
   ],
   "source": [
    "model = fit_catboost(x_train, y_train, cb_params_1000, categorical, x_valid, y_valid)"
   ]
  },
  {
   "cell_type": "code",
   "execution_count": 34,
   "metadata": {},
   "outputs": [
    {
     "name": "stdout",
     "output_type": "stream",
     "text": [
      "score = 0.896947\n",
      "score = 0.891243\n",
      "score = 0.858023\n"
     ]
    }
   ],
   "source": [
    "evaluate_model(model, x_train, y_train, x_valid, y_valid, x_public_lb, test[\"isFraud\"])"
   ]
  },
  {
   "cell_type": "markdown",
   "metadata": {},
   "source": [
    "bestTest = 0.8969465533\n",
    "bestIteration = 999\n",
    "\n",
    "score = 0.896947\n",
    "score = 0.891243\n",
    "score = 0.858023"
   ]
  },
  {
   "cell_type": "code",
   "execution_count": null,
   "metadata": {},
   "outputs": [],
   "source": [
    "# Добавление новых признаков на основе даты не увеличило точность предсказания модели на лидерборде, по сравнению с исходными признаками\n",
    "# Но увеличелась точность на valid. Test и train из разных временных промежутков."
   ]
  },
  {
   "cell_type": "markdown",
   "metadata": {},
   "source": [
    "## Задание 2"
   ]
  },
  {
   "cell_type": "markdown",
   "metadata": {},
   "source": [
    "Задание 2: сделать конкатенацию признаков\n",
    "* card1 + card2;\n",
    "* card1 + card2 + card_3 + card_5;\n",
    "* card1 + card2 + card_3 + card_5 + addr1 + addr2\n",
    "\n",
    "Рассматривать их как категориальных признаки."
   ]
  },
  {
   "cell_type": "code",
   "execution_count": 41,
   "metadata": {},
   "outputs": [],
   "source": [
    "train = pd.read_csv(\"./data/assignment_2_train.csv\")\n",
    "test = pd.read_csv(\"./data/assignment_2_test.csv\")"
   ]
  },
  {
   "cell_type": "code",
   "execution_count": 42,
   "metadata": {},
   "outputs": [],
   "source": [
    "train['card1_card2'] = str(train['card1']) + \"|\" + str(train['card2'])"
   ]
  },
  {
   "cell_type": "code",
   "execution_count": 44,
   "metadata": {},
   "outputs": [],
   "source": [
    "train['card_1_2_3_5'] = str(train['card1_card2']) + \"|\" + str(train['card3']) + \"|\" + str(train['card5'])"
   ]
  },
  {
   "cell_type": "code",
   "execution_count": 45,
   "metadata": {},
   "outputs": [],
   "source": [
    "train['card_1235_addr_1_2'] = str(train['card_1_2_3_5']) + str(train['addr1']) + str(train['addr2'])"
   ]
  },
  {
   "cell_type": "code",
   "execution_count": 46,
   "metadata": {},
   "outputs": [],
   "source": [
    "train['card1_card2'] = train.card1_card2.astype('object')\n",
    "train['card_1_2_3_5'] = train.card_1_2_3_5.astype('object')\n",
    "train['card_1235_addr_1_2'] = train.card_1235_addr_1_2.astype('object')"
   ]
  },
  {
   "cell_type": "code",
   "execution_count": 49,
   "metadata": {},
   "outputs": [],
   "source": [
    "test['card1_card2'] = str(test['card1']) + \"|\" + str(test['card2'])\n",
    "test['card_1_2_3_5'] = str(test['card1_card2']) + \"|\" + str(test['card3']) + \"|\" + str(test['card5'])\n",
    "test['card_1235_addr_1_2'] = str(test['card_1_2_3_5']) + str(test['addr1']) + str(test['addr2'])\n",
    "\n",
    "test['card1_card2'] = test.card1_card2.astype('object')\n",
    "test['card_1_2_3_5'] = test.card_1_2_3_5.astype('object')\n",
    "test['card_1235_addr_1_2'] = test.card_1235_addr_1_2.astype('object')"
   ]
  },
  {
   "cell_type": "code",
   "execution_count": 50,
   "metadata": {},
   "outputs": [],
   "source": [
    "to_drop = [\n",
    "    \"TransactionID\",\n",
    "    \"TransactionDT\",\n",
    "    \"isFraud\",\n",
    "]\n",
    "\n",
    "categorical = train.select_dtypes(include=[\"object\"]).columns.tolist()"
   ]
  },
  {
   "cell_type": "code",
   "execution_count": 51,
   "metadata": {},
   "outputs": [],
   "source": [
    "x_train, x_valid = train_test_split(\n",
    "    train, train_size=0.7, random_state=42, shuffle=True\n",
    ")\n",
    "\n",
    "y_train, y_valid = train_test_split(\n",
    "    train[\"isFraud\"], train_size=0.7, random_state=42, shuffle=True)"
   ]
  },
  {
   "cell_type": "code",
   "execution_count": 52,
   "metadata": {},
   "outputs": [
    {
     "name": "stdout",
     "output_type": "stream",
     "text": [
      "x_train.shape = 125999 rows, 394 cols\n",
      "x_valid.shape = 54001 rows, 394 cols\n",
      "x_test.shape = 100001 rows, 394 cols\n"
     ]
    }
   ],
   "source": [
    "x_train = prepare_data(x_train, categorical=categorical, to_drop=to_drop)\n",
    "x_valid = prepare_data(x_valid, categorical=categorical, to_drop=to_drop)\n",
    "x_public_lb = prepare_data(test, categorical=categorical, to_drop=to_drop)\n",
    "\n",
    "print(\"x_train.shape = {} rows, {} cols\".format(*x_train.shape))\n",
    "print(\"x_valid.shape = {} rows, {} cols\".format(*x_valid.shape))\n",
    "print(\"x_test.shape = {} rows, {} cols\".format(*x_public_lb.shape))"
   ]
  },
  {
   "cell_type": "code",
   "execution_count": 53,
   "metadata": {},
   "outputs": [],
   "source": [
    "cb_params_1000 = {\n",
    "    \"n_estimators\": 1000,\n",
    "    \"learning_rate\": 0.01,\n",
    "    \"loss_function\": \"Logloss\",\n",
    "    \"eval_metric\": \"AUC\",\n",
    "    \"task_type\": \"CPU\",\n",
    "    \"max_bin\": 20,\n",
    "    \"verbose\": 10,\n",
    "    \"max_depth\": 6,\n",
    "    \"l2_leaf_reg\": 100,\n",
    "    \"early_stopping_rounds\":50,\n",
    "    \"thread_count\": 6,\n",
    "    \"random_seed\": 42\n",
    "}"
   ]
  },
  {
   "cell_type": "code",
   "execution_count": 54,
   "metadata": {},
   "outputs": [
    {
     "name": "stdout",
     "output_type": "stream",
     "text": [
      "0:\ttest: 0.6220983\tbest: 0.6220983 (0)\ttotal: 1.03s\tremaining: 17m 9s\n",
      "10:\ttest: 0.7901006\tbest: 0.7901006 (10)\ttotal: 12.1s\tremaining: 18m 4s\n",
      "20:\ttest: 0.7957635\tbest: 0.7975446 (16)\ttotal: 22.9s\tremaining: 17m 45s\n",
      "30:\ttest: 0.8159232\tbest: 0.8159232 (30)\ttotal: 33.5s\tremaining: 17m 27s\n",
      "40:\ttest: 0.8267817\tbest: 0.8267854 (39)\ttotal: 44.2s\tremaining: 17m 14s\n",
      "50:\ttest: 0.8352521\tbest: 0.8358712 (47)\ttotal: 55.4s\tremaining: 17m 10s\n",
      "60:\ttest: 0.8409616\tbest: 0.8409616 (60)\ttotal: 1m 6s\tremaining: 16m 57s\n",
      "70:\ttest: 0.8417169\tbest: 0.8427111 (67)\ttotal: 1m 17s\tremaining: 16m 50s\n",
      "80:\ttest: 0.8448751\tbest: 0.8450100 (78)\ttotal: 1m 27s\tremaining: 16m 38s\n",
      "90:\ttest: 0.8473364\tbest: 0.8473364 (90)\ttotal: 1m 38s\tremaining: 16m 28s\n",
      "100:\ttest: 0.8486445\tbest: 0.8487345 (98)\ttotal: 1m 49s\tremaining: 16m 17s\n",
      "110:\ttest: 0.8507777\tbest: 0.8507777 (110)\ttotal: 2m\tremaining: 16m 8s\n",
      "120:\ttest: 0.8519341\tbest: 0.8519341 (120)\ttotal: 2m 11s\tremaining: 15m 58s\n",
      "130:\ttest: 0.8530806\tbest: 0.8534658 (129)\ttotal: 2m 22s\tremaining: 15m 46s\n",
      "140:\ttest: 0.8541555\tbest: 0.8541726 (139)\ttotal: 2m 33s\tremaining: 15m 34s\n",
      "150:\ttest: 0.8557322\tbest: 0.8557749 (148)\ttotal: 2m 44s\tremaining: 15m 24s\n",
      "160:\ttest: 0.8560578\tbest: 0.8560578 (160)\ttotal: 2m 55s\tremaining: 15m 12s\n",
      "170:\ttest: 0.8573494\tbest: 0.8573494 (170)\ttotal: 3m 5s\tremaining: 15m 1s\n",
      "180:\ttest: 0.8577017\tbest: 0.8577170 (179)\ttotal: 3m 16s\tremaining: 14m 49s\n",
      "190:\ttest: 0.8586639\tbest: 0.8586639 (190)\ttotal: 3m 27s\tremaining: 14m 38s\n",
      "200:\ttest: 0.8593090\tbest: 0.8593090 (200)\ttotal: 3m 38s\tremaining: 14m 27s\n",
      "210:\ttest: 0.8599884\tbest: 0.8600506 (207)\ttotal: 3m 49s\tremaining: 14m 16s\n",
      "220:\ttest: 0.8604746\tbest: 0.8604746 (220)\ttotal: 4m\tremaining: 14m 6s\n",
      "230:\ttest: 0.8608648\tbest: 0.8608714 (227)\ttotal: 4m 10s\tremaining: 13m 55s\n",
      "240:\ttest: 0.8613027\tbest: 0.8613027 (240)\ttotal: 4m 23s\tremaining: 13m 48s\n",
      "250:\ttest: 0.8619166\tbest: 0.8619166 (250)\ttotal: 4m 34s\tremaining: 13m 38s\n",
      "260:\ttest: 0.8629126\tbest: 0.8629126 (260)\ttotal: 4m 45s\tremaining: 13m 28s\n",
      "270:\ttest: 0.8635984\tbest: 0.8635984 (270)\ttotal: 4m 58s\tremaining: 13m 23s\n",
      "280:\ttest: 0.8639867\tbest: 0.8639867 (280)\ttotal: 5m 13s\tremaining: 13m 21s\n",
      "290:\ttest: 0.8641634\tbest: 0.8641634 (290)\ttotal: 5m 25s\tremaining: 13m 11s\n",
      "300:\ttest: 0.8646995\tbest: 0.8646995 (300)\ttotal: 5m 37s\tremaining: 13m 3s\n",
      "310:\ttest: 0.8651217\tbest: 0.8651217 (310)\ttotal: 5m 49s\tremaining: 12m 54s\n",
      "320:\ttest: 0.8653221\tbest: 0.8653221 (320)\ttotal: 6m 1s\tremaining: 12m 44s\n",
      "330:\ttest: 0.8659429\tbest: 0.8659429 (330)\ttotal: 6m 13s\tremaining: 12m 34s\n",
      "340:\ttest: 0.8662131\tbest: 0.8662131 (340)\ttotal: 6m 25s\tremaining: 12m 24s\n",
      "350:\ttest: 0.8672311\tbest: 0.8672311 (350)\ttotal: 6m 36s\tremaining: 12m 13s\n",
      "360:\ttest: 0.8680875\tbest: 0.8680875 (360)\ttotal: 6m 48s\tremaining: 12m 3s\n",
      "370:\ttest: 0.8683637\tbest: 0.8683637 (370)\ttotal: 7m\tremaining: 11m 53s\n",
      "380:\ttest: 0.8689090\tbest: 0.8689090 (380)\ttotal: 7m 12s\tremaining: 11m 43s\n",
      "390:\ttest: 0.8693497\tbest: 0.8693497 (390)\ttotal: 7m 27s\tremaining: 11m 36s\n",
      "400:\ttest: 0.8700913\tbest: 0.8700913 (400)\ttotal: 7m 42s\tremaining: 11m 30s\n",
      "410:\ttest: 0.8711536\tbest: 0.8711542 (409)\ttotal: 7m 58s\tremaining: 11m 25s\n",
      "420:\ttest: 0.8719574\tbest: 0.8719574 (420)\ttotal: 8m 11s\tremaining: 11m 15s\n",
      "430:\ttest: 0.8725723\tbest: 0.8725723 (430)\ttotal: 8m 23s\tremaining: 11m 5s\n",
      "440:\ttest: 0.8733236\tbest: 0.8733236 (440)\ttotal: 8m 35s\tremaining: 10m 54s\n",
      "450:\ttest: 0.8738664\tbest: 0.8738664 (450)\ttotal: 8m 49s\tremaining: 10m 44s\n",
      "460:\ttest: 0.8744869\tbest: 0.8744869 (460)\ttotal: 9m 3s\tremaining: 10m 35s\n",
      "470:\ttest: 0.8751293\tbest: 0.8751293 (470)\ttotal: 9m 16s\tremaining: 10m 24s\n",
      "480:\ttest: 0.8754508\tbest: 0.8754528 (479)\ttotal: 9m 29s\tremaining: 10m 14s\n",
      "490:\ttest: 0.8758886\tbest: 0.8758886 (490)\ttotal: 9m 43s\tremaining: 10m 4s\n",
      "500:\ttest: 0.8763290\tbest: 0.8763290 (500)\ttotal: 9m 55s\tremaining: 9m 53s\n",
      "510:\ttest: 0.8766926\tbest: 0.8766926 (510)\ttotal: 10m 6s\tremaining: 9m 40s\n",
      "520:\ttest: 0.8770680\tbest: 0.8770689 (519)\ttotal: 10m 17s\tremaining: 9m 27s\n",
      "530:\ttest: 0.8775477\tbest: 0.8775477 (530)\ttotal: 10m 30s\tremaining: 9m 16s\n",
      "540:\ttest: 0.8780766\tbest: 0.8780766 (540)\ttotal: 10m 42s\tremaining: 9m 5s\n",
      "550:\ttest: 0.8784599\tbest: 0.8784599 (550)\ttotal: 10m 56s\tremaining: 8m 55s\n",
      "560:\ttest: 0.8789152\tbest: 0.8789152 (560)\ttotal: 11m 9s\tremaining: 8m 43s\n",
      "570:\ttest: 0.8793450\tbest: 0.8793450 (570)\ttotal: 11m 21s\tremaining: 8m 32s\n",
      "580:\ttest: 0.8795976\tbest: 0.8795980 (579)\ttotal: 11m 33s\tremaining: 8m 20s\n",
      "590:\ttest: 0.8800537\tbest: 0.8800537 (590)\ttotal: 11m 45s\tremaining: 8m 8s\n",
      "600:\ttest: 0.8805202\tbest: 0.8805202 (600)\ttotal: 11m 57s\tremaining: 7m 56s\n",
      "610:\ttest: 0.8808832\tbest: 0.8808832 (610)\ttotal: 12m 9s\tremaining: 7m 44s\n",
      "620:\ttest: 0.8813070\tbest: 0.8813070 (620)\ttotal: 12m 20s\tremaining: 7m 32s\n",
      "630:\ttest: 0.8817558\tbest: 0.8817558 (630)\ttotal: 12m 32s\tremaining: 7m 20s\n",
      "640:\ttest: 0.8821312\tbest: 0.8821312 (640)\ttotal: 12m 43s\tremaining: 7m 7s\n",
      "650:\ttest: 0.8824507\tbest: 0.8824507 (650)\ttotal: 12m 54s\tremaining: 6m 55s\n",
      "660:\ttest: 0.8831050\tbest: 0.8831050 (660)\ttotal: 13m 5s\tremaining: 6m 42s\n",
      "670:\ttest: 0.8833435\tbest: 0.8833435 (670)\ttotal: 13m 17s\tremaining: 6m 30s\n",
      "680:\ttest: 0.8836332\tbest: 0.8836332 (680)\ttotal: 13m 27s\tremaining: 6m 18s\n",
      "690:\ttest: 0.8839564\tbest: 0.8839564 (690)\ttotal: 13m 39s\tremaining: 6m 6s\n",
      "700:\ttest: 0.8842866\tbest: 0.8842866 (700)\ttotal: 13m 51s\tremaining: 5m 54s\n",
      "710:\ttest: 0.8847628\tbest: 0.8847628 (710)\ttotal: 14m 2s\tremaining: 5m 42s\n",
      "720:\ttest: 0.8852033\tbest: 0.8852033 (720)\ttotal: 14m 13s\tremaining: 5m 30s\n",
      "730:\ttest: 0.8855661\tbest: 0.8855661 (730)\ttotal: 14m 24s\tremaining: 5m 18s\n",
      "740:\ttest: 0.8858170\tbest: 0.8858170 (740)\ttotal: 14m 34s\tremaining: 5m 5s\n",
      "750:\ttest: 0.8862976\tbest: 0.8862976 (750)\ttotal: 14m 45s\tremaining: 4m 53s\n",
      "760:\ttest: 0.8865662\tbest: 0.8865662 (760)\ttotal: 14m 56s\tremaining: 4m 41s\n",
      "770:\ttest: 0.8870034\tbest: 0.8870034 (770)\ttotal: 15m 7s\tremaining: 4m 29s\n",
      "780:\ttest: 0.8871730\tbest: 0.8871730 (780)\ttotal: 15m 18s\tremaining: 4m 17s\n",
      "790:\ttest: 0.8874521\tbest: 0.8874521 (790)\ttotal: 15m 30s\tremaining: 4m 5s\n",
      "800:\ttest: 0.8876349\tbest: 0.8876349 (800)\ttotal: 15m 41s\tremaining: 3m 53s\n",
      "810:\ttest: 0.8879312\tbest: 0.8879312 (810)\ttotal: 15m 52s\tremaining: 3m 42s\n",
      "820:\ttest: 0.8881548\tbest: 0.8881548 (820)\ttotal: 16m 3s\tremaining: 3m 30s\n",
      "830:\ttest: 0.8883953\tbest: 0.8883953 (830)\ttotal: 16m 15s\tremaining: 3m 18s\n",
      "840:\ttest: 0.8887600\tbest: 0.8887600 (840)\ttotal: 16m 26s\tremaining: 3m 6s\n",
      "850:\ttest: 0.8890174\tbest: 0.8890174 (850)\ttotal: 16m 37s\tremaining: 2m 54s\n",
      "860:\ttest: 0.8892498\tbest: 0.8892498 (860)\ttotal: 16m 49s\tremaining: 2m 42s\n",
      "870:\ttest: 0.8894655\tbest: 0.8894655 (870)\ttotal: 17m\tremaining: 2m 31s\n",
      "880:\ttest: 0.8897623\tbest: 0.8897623 (880)\ttotal: 17m 11s\tremaining: 2m 19s\n",
      "890:\ttest: 0.8899849\tbest: 0.8899849 (890)\ttotal: 17m 22s\tremaining: 2m 7s\n",
      "900:\ttest: 0.8903067\tbest: 0.8903067 (900)\ttotal: 17m 34s\tremaining: 1m 55s\n",
      "910:\ttest: 0.8905304\tbest: 0.8905304 (910)\ttotal: 17m 45s\tremaining: 1m 44s\n",
      "920:\ttest: 0.8907035\tbest: 0.8907035 (920)\ttotal: 17m 56s\tremaining: 1m 32s\n",
      "930:\ttest: 0.8909438\tbest: 0.8909438 (930)\ttotal: 18m 7s\tremaining: 1m 20s\n",
      "940:\ttest: 0.8911277\tbest: 0.8911277 (940)\ttotal: 18m 19s\tremaining: 1m 8s\n",
      "950:\ttest: 0.8913795\tbest: 0.8913795 (950)\ttotal: 18m 32s\tremaining: 57.3s\n",
      "960:\ttest: 0.8916377\tbest: 0.8916377 (960)\ttotal: 18m 45s\tremaining: 45.7s\n",
      "970:\ttest: 0.8918007\tbest: 0.8918007 (970)\ttotal: 18m 57s\tremaining: 34s\n",
      "980:\ttest: 0.8918719\tbest: 0.8918719 (980)\ttotal: 19m 9s\tremaining: 22.3s\n",
      "990:\ttest: 0.8921324\tbest: 0.8921324 (990)\ttotal: 19m 21s\tremaining: 10.5s\n",
      "999:\ttest: 0.8923703\tbest: 0.8923703 (999)\ttotal: 19m 33s\tremaining: 0us\n",
      "\n",
      "bestTest = 0.8923702909\n",
      "bestIteration = 999\n",
      "\n"
     ]
    }
   ],
   "source": [
    "model = fit_catboost(x_train, y_train, cb_params_1000, categorical, x_valid, y_valid)"
   ]
  },
  {
   "cell_type": "code",
   "execution_count": 56,
   "metadata": {},
   "outputs": [
    {
     "name": "stdout",
     "output_type": "stream",
     "text": [
      "score = 0.89237\n",
      "score = 0.885213\n",
      "score = 0.863983\n"
     ]
    }
   ],
   "source": [
    "evaluate_model(model, x_train, y_train, x_valid, y_valid, x_public_lb, test[\"isFraud\"])"
   ]
  },
  {
   "cell_type": "markdown",
   "metadata": {},
   "source": [
    "bestTest = 0.8923702909\n",
    "bestIteration = 999\n",
    "\n",
    "score = 0.89237\n",
    "score = 0.885213\n",
    "score = 0.863983"
   ]
  },
  {
   "cell_type": "code",
   "execution_count": null,
   "metadata": {},
   "outputs": [],
   "source": [
    "# Конкатенация не повлияла на точность модели"
   ]
  },
  {
   "cell_type": "markdown",
   "metadata": {},
   "source": [
    "## Задание 3"
   ]
  },
  {
   "cell_type": "markdown",
   "metadata": {},
   "source": [
    "Задание 3: Сделать FrequencyEncoder для признаков card1 - card6, addr1, addr2."
   ]
  },
  {
   "cell_type": "code",
   "execution_count": 57,
   "metadata": {},
   "outputs": [],
   "source": [
    "train = pd.read_csv(\"./data/assignment_2_train.csv\")\n",
    "test = pd.read_csv(\"./data/assignment_2_test.csv\")"
   ]
  },
  {
   "cell_type": "code",
   "execution_count": 62,
   "metadata": {},
   "outputs": [],
   "source": [
    "for col_name in ['card1', 'card2', 'card3', 'card4', 'card5', 'card6', 'addr1', 'addr2']:\n",
    "    freq_encoder = train[col_name].value_counts(normalize=True)\n",
    "    train[f'{col_name}_freq_enc'] = train[col_name].map(freq_encoder)\n",
    "    train[f'{col_name}_freq_enc'] = train[f'{col_name}_freq_enc'].astype('object')\n",
    "    \n"
   ]
  },
  {
   "cell_type": "code",
   "execution_count": 64,
   "metadata": {},
   "outputs": [],
   "source": [
    "for col_name in ['card1', 'card2', 'card3', 'card4', 'card5', 'card6', 'addr1', 'addr2']:\n",
    "    freq_encoder = test[col_name].value_counts(normalize=True)\n",
    "    test[f'{col_name}_freq_enc'] = test[col_name].map(freq_encoder)\n",
    "    test[f'{col_name}_freq_enc'] = test[f'{col_name}_freq_enc'].astype('object')"
   ]
  },
  {
   "cell_type": "code",
   "execution_count": 60,
   "metadata": {},
   "outputs": [
    {
     "data": {
      "text/html": [
       "<div>\n",
       "<style scoped>\n",
       "    .dataframe tbody tr th:only-of-type {\n",
       "        vertical-align: middle;\n",
       "    }\n",
       "\n",
       "    .dataframe tbody tr th {\n",
       "        vertical-align: top;\n",
       "    }\n",
       "\n",
       "    .dataframe thead th {\n",
       "        text-align: right;\n",
       "    }\n",
       "</style>\n",
       "<table border=\"1\" class=\"dataframe\">\n",
       "  <thead>\n",
       "    <tr style=\"text-align: right;\">\n",
       "      <th></th>\n",
       "      <th>TransactionID</th>\n",
       "      <th>isFraud</th>\n",
       "      <th>TransactionDT</th>\n",
       "      <th>TransactionAmt</th>\n",
       "      <th>ProductCD</th>\n",
       "      <th>card1</th>\n",
       "      <th>card2</th>\n",
       "      <th>card3</th>\n",
       "      <th>card4</th>\n",
       "      <th>card5</th>\n",
       "      <th>...</th>\n",
       "      <th>V330</th>\n",
       "      <th>V331</th>\n",
       "      <th>V332</th>\n",
       "      <th>V333</th>\n",
       "      <th>V334</th>\n",
       "      <th>V335</th>\n",
       "      <th>V336</th>\n",
       "      <th>V337</th>\n",
       "      <th>V338</th>\n",
       "      <th>V339</th>\n",
       "    </tr>\n",
       "  </thead>\n",
       "  <tbody>\n",
       "    <tr>\n",
       "      <th>0</th>\n",
       "      <td>2987000</td>\n",
       "      <td>0</td>\n",
       "      <td>86400</td>\n",
       "      <td>68.5</td>\n",
       "      <td>W</td>\n",
       "      <td>13926</td>\n",
       "      <td>NaN</td>\n",
       "      <td>150.0</td>\n",
       "      <td>discover</td>\n",
       "      <td>142.0</td>\n",
       "      <td>...</td>\n",
       "      <td>NaN</td>\n",
       "      <td>NaN</td>\n",
       "      <td>NaN</td>\n",
       "      <td>NaN</td>\n",
       "      <td>NaN</td>\n",
       "      <td>NaN</td>\n",
       "      <td>NaN</td>\n",
       "      <td>NaN</td>\n",
       "      <td>NaN</td>\n",
       "      <td>NaN</td>\n",
       "    </tr>\n",
       "    <tr>\n",
       "      <th>1</th>\n",
       "      <td>2987001</td>\n",
       "      <td>0</td>\n",
       "      <td>86401</td>\n",
       "      <td>29.0</td>\n",
       "      <td>W</td>\n",
       "      <td>2755</td>\n",
       "      <td>404.0</td>\n",
       "      <td>150.0</td>\n",
       "      <td>mastercard</td>\n",
       "      <td>102.0</td>\n",
       "      <td>...</td>\n",
       "      <td>NaN</td>\n",
       "      <td>NaN</td>\n",
       "      <td>NaN</td>\n",
       "      <td>NaN</td>\n",
       "      <td>NaN</td>\n",
       "      <td>NaN</td>\n",
       "      <td>NaN</td>\n",
       "      <td>NaN</td>\n",
       "      <td>NaN</td>\n",
       "      <td>NaN</td>\n",
       "    </tr>\n",
       "    <tr>\n",
       "      <th>2</th>\n",
       "      <td>2987002</td>\n",
       "      <td>0</td>\n",
       "      <td>86469</td>\n",
       "      <td>59.0</td>\n",
       "      <td>W</td>\n",
       "      <td>4663</td>\n",
       "      <td>490.0</td>\n",
       "      <td>150.0</td>\n",
       "      <td>visa</td>\n",
       "      <td>166.0</td>\n",
       "      <td>...</td>\n",
       "      <td>NaN</td>\n",
       "      <td>NaN</td>\n",
       "      <td>NaN</td>\n",
       "      <td>NaN</td>\n",
       "      <td>NaN</td>\n",
       "      <td>NaN</td>\n",
       "      <td>NaN</td>\n",
       "      <td>NaN</td>\n",
       "      <td>NaN</td>\n",
       "      <td>NaN</td>\n",
       "    </tr>\n",
       "    <tr>\n",
       "      <th>3</th>\n",
       "      <td>2987003</td>\n",
       "      <td>0</td>\n",
       "      <td>86499</td>\n",
       "      <td>50.0</td>\n",
       "      <td>W</td>\n",
       "      <td>18132</td>\n",
       "      <td>567.0</td>\n",
       "      <td>150.0</td>\n",
       "      <td>mastercard</td>\n",
       "      <td>117.0</td>\n",
       "      <td>...</td>\n",
       "      <td>NaN</td>\n",
       "      <td>NaN</td>\n",
       "      <td>NaN</td>\n",
       "      <td>NaN</td>\n",
       "      <td>NaN</td>\n",
       "      <td>NaN</td>\n",
       "      <td>NaN</td>\n",
       "      <td>NaN</td>\n",
       "      <td>NaN</td>\n",
       "      <td>NaN</td>\n",
       "    </tr>\n",
       "    <tr>\n",
       "      <th>4</th>\n",
       "      <td>2987004</td>\n",
       "      <td>0</td>\n",
       "      <td>86506</td>\n",
       "      <td>50.0</td>\n",
       "      <td>H</td>\n",
       "      <td>4497</td>\n",
       "      <td>514.0</td>\n",
       "      <td>150.0</td>\n",
       "      <td>mastercard</td>\n",
       "      <td>102.0</td>\n",
       "      <td>...</td>\n",
       "      <td>0.0</td>\n",
       "      <td>0.0</td>\n",
       "      <td>0.0</td>\n",
       "      <td>0.0</td>\n",
       "      <td>0.0</td>\n",
       "      <td>0.0</td>\n",
       "      <td>0.0</td>\n",
       "      <td>0.0</td>\n",
       "      <td>0.0</td>\n",
       "      <td>0.0</td>\n",
       "    </tr>\n",
       "  </tbody>\n",
       "</table>\n",
       "<p>5 rows × 394 columns</p>\n",
       "</div>"
      ],
      "text/plain": [
       "   TransactionID  isFraud  TransactionDT  TransactionAmt ProductCD  card1  \\\n",
       "0        2987000        0          86400            68.5         W  13926   \n",
       "1        2987001        0          86401            29.0         W   2755   \n",
       "2        2987002        0          86469            59.0         W   4663   \n",
       "3        2987003        0          86499            50.0         W  18132   \n",
       "4        2987004        0          86506            50.0         H   4497   \n",
       "\n",
       "   card2  card3       card4  card5  ... V330  V331  V332  V333  V334 V335  \\\n",
       "0    NaN  150.0    discover  142.0  ...  NaN   NaN   NaN   NaN   NaN  NaN   \n",
       "1  404.0  150.0  mastercard  102.0  ...  NaN   NaN   NaN   NaN   NaN  NaN   \n",
       "2  490.0  150.0        visa  166.0  ...  NaN   NaN   NaN   NaN   NaN  NaN   \n",
       "3  567.0  150.0  mastercard  117.0  ...  NaN   NaN   NaN   NaN   NaN  NaN   \n",
       "4  514.0  150.0  mastercard  102.0  ...  0.0   0.0   0.0   0.0   0.0  0.0   \n",
       "\n",
       "  V336  V337  V338  V339  \n",
       "0  NaN   NaN   NaN   NaN  \n",
       "1  NaN   NaN   NaN   NaN  \n",
       "2  NaN   NaN   NaN   NaN  \n",
       "3  NaN   NaN   NaN   NaN  \n",
       "4  0.0   0.0   0.0   0.0  \n",
       "\n",
       "[5 rows x 394 columns]"
      ]
     },
     "execution_count": 60,
     "metadata": {},
     "output_type": "execute_result"
    }
   ],
   "source": [
    "train.head(5)"
   ]
  },
  {
   "cell_type": "code",
   "execution_count": 65,
   "metadata": {},
   "outputs": [],
   "source": [
    "to_drop = [\n",
    "    \"TransactionID\",\n",
    "    \"TransactionDT\",\n",
    "    \"isFraud\",\n",
    "]\n",
    "\n",
    "categorical = train.select_dtypes(include=[\"object\"]).columns.tolist()"
   ]
  },
  {
   "cell_type": "code",
   "execution_count": 66,
   "metadata": {},
   "outputs": [
    {
     "data": {
      "text/plain": [
       "['ProductCD',\n",
       " 'card4',\n",
       " 'card6',\n",
       " 'P_emaildomain',\n",
       " 'R_emaildomain',\n",
       " 'M1',\n",
       " 'M2',\n",
       " 'M3',\n",
       " 'M4',\n",
       " 'M5',\n",
       " 'M6',\n",
       " 'M7',\n",
       " 'M8',\n",
       " 'M9',\n",
       " 'card1_freq_enc',\n",
       " 'card2_freq_enc',\n",
       " 'card3_freq_enc',\n",
       " 'card4_freq_enc',\n",
       " 'card5_freq_enc',\n",
       " 'card6_freq_enc',\n",
       " 'addr1_freq_enc',\n",
       " 'addr2_freq_enc']"
      ]
     },
     "execution_count": 66,
     "metadata": {},
     "output_type": "execute_result"
    }
   ],
   "source": [
    "categorical"
   ]
  },
  {
   "cell_type": "code",
   "execution_count": 67,
   "metadata": {},
   "outputs": [],
   "source": [
    "x_train, x_valid = train_test_split(\n",
    "    train, train_size=0.7, random_state=42, shuffle=True\n",
    ")\n",
    "\n",
    "y_train, y_valid = train_test_split(\n",
    "    train[\"isFraud\"], train_size=0.7, random_state=42, shuffle=True)"
   ]
  },
  {
   "cell_type": "code",
   "execution_count": 68,
   "metadata": {},
   "outputs": [
    {
     "name": "stdout",
     "output_type": "stream",
     "text": [
      "x_train.shape = 125999 rows, 399 cols\n",
      "x_valid.shape = 54001 rows, 399 cols\n",
      "x_test.shape = 100001 rows, 399 cols\n"
     ]
    }
   ],
   "source": [
    "x_train = prepare_data(x_train, categorical=categorical, to_drop=to_drop)\n",
    "x_valid = prepare_data(x_valid, categorical=categorical, to_drop=to_drop)\n",
    "x_public_lb = prepare_data(test, categorical=categorical, to_drop=to_drop)\n",
    "\n",
    "print(\"x_train.shape = {} rows, {} cols\".format(*x_train.shape))\n",
    "print(\"x_valid.shape = {} rows, {} cols\".format(*x_valid.shape))\n",
    "print(\"x_test.shape = {} rows, {} cols\".format(*x_public_lb.shape))"
   ]
  },
  {
   "cell_type": "code",
   "execution_count": 69,
   "metadata": {},
   "outputs": [
    {
     "name": "stdout",
     "output_type": "stream",
     "text": [
      "0:\ttest: 0.6535578\tbest: 0.6535578 (0)\ttotal: 1.81s\tremaining: 30m 6s\n",
      "10:\ttest: 0.7430234\tbest: 0.7441400 (9)\ttotal: 17.2s\tremaining: 25m 45s\n",
      "20:\ttest: 0.7986847\tbest: 0.7986847 (20)\ttotal: 31.7s\tremaining: 24m 39s\n",
      "30:\ttest: 0.8073731\tbest: 0.8073731 (30)\ttotal: 47.1s\tremaining: 24m 31s\n",
      "40:\ttest: 0.8219596\tbest: 0.8219596 (40)\ttotal: 1m 2s\tremaining: 24m 11s\n",
      "50:\ttest: 0.8240857\tbest: 0.8244230 (48)\ttotal: 1m 17s\tremaining: 24m 4s\n",
      "60:\ttest: 0.8355746\tbest: 0.8355746 (60)\ttotal: 1m 32s\tremaining: 23m 49s\n",
      "70:\ttest: 0.8386192\tbest: 0.8393172 (66)\ttotal: 1m 48s\tremaining: 23m 34s\n",
      "80:\ttest: 0.8430040\tbest: 0.8430040 (80)\ttotal: 2m 3s\tremaining: 23m 19s\n",
      "90:\ttest: 0.8452464\tbest: 0.8452464 (90)\ttotal: 2m 18s\tremaining: 23m 5s\n",
      "100:\ttest: 0.8487669\tbest: 0.8487669 (100)\ttotal: 2m 35s\tremaining: 23m 1s\n",
      "110:\ttest: 0.8501928\tbest: 0.8501928 (110)\ttotal: 2m 52s\tremaining: 23m\n",
      "120:\ttest: 0.8512691\tbest: 0.8512691 (120)\ttotal: 3m 8s\tremaining: 22m 50s\n",
      "130:\ttest: 0.8530500\tbest: 0.8530500 (130)\ttotal: 3m 24s\tremaining: 22m 36s\n",
      "140:\ttest: 0.8539606\tbest: 0.8539606 (140)\ttotal: 3m 40s\tremaining: 22m 22s\n",
      "150:\ttest: 0.8542386\tbest: 0.8542386 (150)\ttotal: 3m 56s\tremaining: 22m 8s\n",
      "160:\ttest: 0.8558557\tbest: 0.8558731 (159)\ttotal: 4m 13s\tremaining: 21m 59s\n",
      "170:\ttest: 0.8755267\tbest: 0.8755267 (170)\ttotal: 4m 30s\tremaining: 21m 51s\n",
      "180:\ttest: 0.8876153\tbest: 0.8876505 (179)\ttotal: 4m 46s\tremaining: 21m 38s\n",
      "190:\ttest: 0.8958886\tbest: 0.8959502 (189)\ttotal: 5m 2s\tremaining: 21m 21s\n",
      "200:\ttest: 0.9051104\tbest: 0.9051104 (200)\ttotal: 5m 19s\tremaining: 21m 10s\n",
      "210:\ttest: 0.9063248\tbest: 0.9065498 (203)\ttotal: 5m 35s\tremaining: 20m 53s\n",
      "220:\ttest: 0.9091584\tbest: 0.9091960 (219)\ttotal: 5m 50s\tremaining: 20m 34s\n",
      "230:\ttest: 0.9124938\tbest: 0.9124938 (230)\ttotal: 6m 5s\tremaining: 20m 15s\n",
      "240:\ttest: 0.9136450\tbest: 0.9136450 (240)\ttotal: 6m 20s\tremaining: 19m 58s\n",
      "250:\ttest: 0.9184903\tbest: 0.9185201 (249)\ttotal: 6m 35s\tremaining: 19m 39s\n",
      "260:\ttest: 0.9228308\tbest: 0.9228308 (260)\ttotal: 6m 50s\tremaining: 19m 21s\n",
      "270:\ttest: 0.9232538\tbest: 0.9232659 (269)\ttotal: 7m 6s\tremaining: 19m 6s\n",
      "280:\ttest: 0.9250147\tbest: 0.9250147 (280)\ttotal: 7m 21s\tremaining: 18m 49s\n",
      "290:\ttest: 0.9255523\tbest: 0.9255952 (289)\ttotal: 7m 37s\tremaining: 18m 34s\n",
      "300:\ttest: 0.9260925\tbest: 0.9260925 (300)\ttotal: 7m 53s\tremaining: 18m 19s\n",
      "310:\ttest: 0.9268210\tbest: 0.9268210 (310)\ttotal: 8m 8s\tremaining: 18m 3s\n",
      "320:\ttest: 0.9276794\tbest: 0.9277151 (317)\ttotal: 8m 26s\tremaining: 17m 50s\n",
      "330:\ttest: 0.9281066\tbest: 0.9281182 (329)\ttotal: 8m 42s\tremaining: 17m 36s\n",
      "340:\ttest: 0.9287445\tbest: 0.9287445 (340)\ttotal: 9m\tremaining: 17m 24s\n",
      "350:\ttest: 0.9294197\tbest: 0.9295708 (345)\ttotal: 9m 16s\tremaining: 17m 9s\n",
      "360:\ttest: 0.9299948\tbest: 0.9300376 (359)\ttotal: 9m 34s\tremaining: 16m 56s\n",
      "370:\ttest: 0.9310280\tbest: 0.9310384 (366)\ttotal: 9m 50s\tremaining: 16m 41s\n",
      "380:\ttest: 0.9313980\tbest: 0.9314933 (375)\ttotal: 10m 6s\tremaining: 16m 25s\n",
      "390:\ttest: 0.9322632\tbest: 0.9322632 (390)\ttotal: 10m 23s\tremaining: 16m 10s\n",
      "400:\ttest: 0.9320133\tbest: 0.9322632 (390)\ttotal: 10m 39s\tremaining: 15m 55s\n",
      "410:\ttest: 0.9321323\tbest: 0.9322632 (390)\ttotal: 10m 55s\tremaining: 15m 38s\n",
      "420:\ttest: 0.9329737\tbest: 0.9329737 (420)\ttotal: 11m 12s\tremaining: 15m 24s\n",
      "430:\ttest: 0.9337164\tbest: 0.9337633 (425)\ttotal: 11m 30s\tremaining: 15m 11s\n",
      "440:\ttest: 0.9343774\tbest: 0.9343972 (439)\ttotal: 11m 48s\tremaining: 14m 57s\n",
      "450:\ttest: 0.9349047\tbest: 0.9349181 (448)\ttotal: 12m 3s\tremaining: 14m 41s\n",
      "460:\ttest: 0.9358525\tbest: 0.9358525 (460)\ttotal: 12m 19s\tremaining: 14m 24s\n",
      "470:\ttest: 0.9372643\tbest: 0.9372682 (469)\ttotal: 12m 35s\tremaining: 14m 8s\n",
      "480:\ttest: 0.9405772\tbest: 0.9405772 (480)\ttotal: 12m 51s\tremaining: 13m 52s\n",
      "490:\ttest: 0.9427579\tbest: 0.9427579 (490)\ttotal: 13m 7s\tremaining: 13m 36s\n",
      "500:\ttest: 0.9449986\tbest: 0.9449986 (500)\ttotal: 13m 23s\tremaining: 13m 19s\n",
      "510:\ttest: 0.9461069\tbest: 0.9461086 (509)\ttotal: 13m 39s\tremaining: 13m 3s\n",
      "520:\ttest: 0.9471330\tbest: 0.9471330 (520)\ttotal: 13m 54s\tremaining: 12m 47s\n",
      "530:\ttest: 0.9478272\tbest: 0.9478298 (529)\ttotal: 14m 10s\tremaining: 12m 31s\n",
      "540:\ttest: 0.9496969\tbest: 0.9496969 (540)\ttotal: 14m 26s\tremaining: 12m 14s\n",
      "550:\ttest: 0.9507356\tbest: 0.9507356 (550)\ttotal: 14m 42s\tremaining: 11m 58s\n",
      "560:\ttest: 0.9522769\tbest: 0.9522769 (560)\ttotal: 14m 58s\tremaining: 11m 43s\n",
      "570:\ttest: 0.9534772\tbest: 0.9534772 (570)\ttotal: 15m 15s\tremaining: 11m 27s\n",
      "580:\ttest: 0.9538669\tbest: 0.9538669 (580)\ttotal: 15m 30s\tremaining: 11m 11s\n",
      "590:\ttest: 0.9549116\tbest: 0.9549472 (588)\ttotal: 15m 44s\tremaining: 10m 53s\n",
      "600:\ttest: 0.9559936\tbest: 0.9559936 (600)\ttotal: 15m 59s\tremaining: 10m 36s\n",
      "610:\ttest: 0.9568985\tbest: 0.9568985 (610)\ttotal: 16m 15s\tremaining: 10m 21s\n",
      "620:\ttest: 0.9579732\tbest: 0.9579732 (620)\ttotal: 16m 30s\tremaining: 10m 4s\n",
      "630:\ttest: 0.9585399\tbest: 0.9585399 (630)\ttotal: 16m 44s\tremaining: 9m 47s\n",
      "640:\ttest: 0.9590611\tbest: 0.9590611 (640)\ttotal: 16m 59s\tremaining: 9m 31s\n",
      "650:\ttest: 0.9597065\tbest: 0.9597065 (650)\ttotal: 17m 16s\tremaining: 9m 15s\n",
      "660:\ttest: 0.9606627\tbest: 0.9606627 (660)\ttotal: 17m 34s\tremaining: 9m\n",
      "670:\ttest: 0.9611196\tbest: 0.9611196 (670)\ttotal: 17m 52s\tremaining: 8m 46s\n",
      "680:\ttest: 0.9616542\tbest: 0.9616542 (680)\ttotal: 18m 9s\tremaining: 8m 30s\n",
      "690:\ttest: 0.9622890\tbest: 0.9622890 (690)\ttotal: 18m 26s\tremaining: 8m 14s\n",
      "700:\ttest: 0.9630691\tbest: 0.9630691 (700)\ttotal: 18m 44s\tremaining: 7m 59s\n",
      "710:\ttest: 0.9635836\tbest: 0.9635836 (710)\ttotal: 19m 1s\tremaining: 7m 44s\n",
      "720:\ttest: 0.9639117\tbest: 0.9639117 (720)\ttotal: 19m 19s\tremaining: 7m 28s\n",
      "730:\ttest: 0.9641192\tbest: 0.9641192 (729)\ttotal: 19m 36s\tremaining: 7m 13s\n",
      "740:\ttest: 0.9642280\tbest: 0.9642372 (739)\ttotal: 19m 55s\tremaining: 6m 57s\n",
      "750:\ttest: 0.9646136\tbest: 0.9646136 (750)\ttotal: 20m 13s\tremaining: 6m 42s\n",
      "760:\ttest: 0.9655034\tbest: 0.9655034 (760)\ttotal: 20m 28s\tremaining: 6m 25s\n",
      "770:\ttest: 0.9658658\tbest: 0.9658658 (770)\ttotal: 20m 47s\tremaining: 6m 10s\n",
      "780:\ttest: 0.9660765\tbest: 0.9660858 (779)\ttotal: 21m 4s\tremaining: 5m 54s\n",
      "790:\ttest: 0.9663080\tbest: 0.9663080 (790)\ttotal: 21m 19s\tremaining: 5m 38s\n",
      "800:\ttest: 0.9663591\tbest: 0.9663591 (800)\ttotal: 21m 37s\tremaining: 5m 22s\n",
      "810:\ttest: 0.9664034\tbest: 0.9664034 (810)\ttotal: 21m 54s\tremaining: 5m 6s\n",
      "820:\ttest: 0.9665403\tbest: 0.9665408 (818)\ttotal: 22m 9s\tremaining: 4m 49s\n",
      "830:\ttest: 0.9667208\tbest: 0.9667208 (830)\ttotal: 22m 26s\tremaining: 4m 33s\n",
      "840:\ttest: 0.9667235\tbest: 0.9667398 (838)\ttotal: 22m 42s\tremaining: 4m 17s\n",
      "850:\ttest: 0.9668543\tbest: 0.9668543 (850)\ttotal: 22m 58s\tremaining: 4m 1s\n",
      "860:\ttest: 0.9670004\tbest: 0.9670004 (860)\ttotal: 23m 14s\tremaining: 3m 45s\n",
      "870:\ttest: 0.9670447\tbest: 0.9670500 (869)\ttotal: 23m 29s\tremaining: 3m 28s\n",
      "880:\ttest: 0.9671355\tbest: 0.9671355 (880)\ttotal: 23m 45s\tremaining: 3m 12s\n",
      "890:\ttest: 0.9672020\tbest: 0.9672020 (890)\ttotal: 24m 2s\tremaining: 2m 56s\n",
      "900:\ttest: 0.9674203\tbest: 0.9674203 (900)\ttotal: 24m 17s\tremaining: 2m 40s\n",
      "910:\ttest: 0.9674483\tbest: 0.9674613 (905)\ttotal: 24m 34s\tremaining: 2m 24s\n",
      "920:\ttest: 0.9674741\tbest: 0.9674741 (920)\ttotal: 24m 53s\tremaining: 2m 8s\n",
      "930:\ttest: 0.9676108\tbest: 0.9676108 (930)\ttotal: 25m 12s\tremaining: 1m 52s\n",
      "940:\ttest: 0.9676127\tbest: 0.9676165 (932)\ttotal: 25m 30s\tremaining: 1m 35s\n",
      "950:\ttest: 0.9678498\tbest: 0.9678498 (950)\ttotal: 25m 48s\tremaining: 1m 19s\n",
      "960:\ttest: 0.9678767\tbest: 0.9678767 (960)\ttotal: 26m 6s\tremaining: 1m 3s\n",
      "970:\ttest: 0.9679075\tbest: 0.9679124 (969)\ttotal: 26m 23s\tremaining: 47.3s\n",
      "980:\ttest: 0.9680111\tbest: 0.9680132 (978)\ttotal: 26m 41s\tremaining: 31s\n",
      "990:\ttest: 0.9681276\tbest: 0.9681276 (990)\ttotal: 26m 59s\tremaining: 14.7s\n",
      "999:\ttest: 0.9681699\tbest: 0.9681756 (993)\ttotal: 27m 14s\tremaining: 0us\n",
      "\n",
      "bestTest = 0.9681756235\n",
      "bestIteration = 993\n",
      "\n",
      "Shrink model to first 994 iterations.\n"
     ]
    }
   ],
   "source": [
    "model = fit_catboost(x_train, y_train, cb_params_1000, categorical, x_valid, y_valid)"
   ]
  },
  {
   "cell_type": "code",
   "execution_count": 70,
   "metadata": {},
   "outputs": [
    {
     "name": "stdout",
     "output_type": "stream",
     "text": [
      "score = 0.968176\n",
      "score = 0.930302\n",
      "score = 0.859754\n"
     ]
    }
   ],
   "source": [
    "evaluate_model(model, x_train, y_train, x_valid, y_valid, x_public_lb, test[\"isFraud\"])"
   ]
  },
  {
   "cell_type": "markdown",
   "metadata": {},
   "source": [
    "bestTest = 0.9681756235\n",
    "bestIteration = 993\n",
    "score = 0.968176\n",
    "score = 0.930302\n",
    "score = 0.859754"
   ]
  },
  {
   "cell_type": "code",
   "execution_count": null,
   "metadata": {},
   "outputs": [],
   "source": [
    "# FrequencyEncoder учеличил точность модели на train, но на лидерборде точность ухудшилась."
   ]
  },
  {
   "cell_type": "code",
   "execution_count": null,
   "metadata": {},
   "outputs": [],
   "source": []
  },
  {
   "cell_type": "markdown",
   "metadata": {},
   "source": [
    "## Задание 4"
   ]
  },
  {
   "cell_type": "markdown",
   "metadata": {},
   "source": [
    "Задание 4: Создать признаки на основе отношения: TransactionAmt к вычисленной статистике. Статистика - среднее значение / стандартное отклонение TransactionAmt, сгруппированное по card1 - card6, addr1, addr2, и по признакам, созданным в задании 2."
   ]
  },
  {
   "cell_type": "code",
   "execution_count": null,
   "metadata": {},
   "outputs": [],
   "source": []
  }
 ],
 "metadata": {
  "kernelspec": {
   "display_name": "Python 3",
   "language": "python",
   "name": "python3"
  },
  "language_info": {
   "codemirror_mode": {
    "name": "ipython",
    "version": 3
   },
   "file_extension": ".py",
   "mimetype": "text/x-python",
   "name": "python",
   "nbconvert_exporter": "python",
   "pygments_lexer": "ipython3",
   "version": "3.6.5"
  }
 },
 "nbformat": 4,
 "nbformat_minor": 2
}
